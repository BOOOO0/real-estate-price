{
 "cells": [
  {
   "cell_type": "code",
<<<<<<< HEAD
<<<<<<< HEAD
   "execution_count": 6,
=======
   "execution_count": 3,
>>>>>>> feature/linear-regression
=======
   "execution_count": 1,
>>>>>>> feature/data-visualization
   "metadata": {},
   "outputs": [],
   "source": [
    "# 공공 데이터 API 호출 서비스 키 모듈 호출\n",
    "import api_keys"
   ]
  },
  {
   "cell_type": "code",
<<<<<<< HEAD
<<<<<<< HEAD
   "execution_count": 3,
=======
   "execution_count": 4,
>>>>>>> feature/linear-regression
=======
   "execution_count": 2,
>>>>>>> feature/data-visualization
   "metadata": {},
   "outputs": [],
   "source": [
    "# 서울시 모든 구의 법정동 코드\n",
    "region_codes = ['11110', '11140', '11170', '11200', '11200', '11215', '11230' '11260', '11290', '11305', '11320', '11335', '11350', '11380', '11410', '11440', '11470', '11500', '11530', '11545', '11560', '11590', '11620', '11650', '11680', '11710', '11740']"
   ]
  },
  {
   "cell_type": "code",
<<<<<<< HEAD
   "execution_count": 15,
=======
   "execution_count": 3,
>>>>>>> feature/data-visualization
   "metadata": {},
   "outputs": [
    {
     "name": "stdout",
     "output_type": "stream",
     "text": [
      "[<item><거래금액>110,000</거래금액><거래유형>중개거래</거래유형><구분>입</구분><년>2023</년><단지>흑석리버파크자이</단지><법정동> 흑석동</법정동><시군구>동작구</시군구><월>1</월><일>28</일><전용면적>59.93</전용면적><중개사소재지>서울 동작구</중개사소재지><지번>253-89</지번><지역코드>11590</지역코드><층>6</층><해제사유발생일> </해제사유발생일><해제여부> </해제여부></item>]\n"
     ]
    }
   ],
   "source": [
    "# 예시 데이터 출력\n",
    "from bs4 import BeautifulSoup\n",
    "from urllib.request import urlopen\n",
    "\n",
    "url = f'http://openapi.molit.go.kr/OpenAPI_ToolInstallPackage/service/rest/RTMSOBJSvc/getRTMSDataSvcSilvTrade?serviceKey={api_keys.encoding_key}&LAWD_CD={region_codes[20]}&DEAL_YMD=202301'\n",
    "\n",
    "response = urlopen(url)\n",
    "\n",
    "result = BeautifulSoup(response,'xml')\n",
    "items = result.find_all('item')\n",
    "\n",
    "print(items)"
   ]
  },
  {
   "cell_type": "code",
<<<<<<< HEAD
<<<<<<< HEAD
   "execution_count": 7,
=======
   "execution_count": 5,
>>>>>>> feature/linear-regression
=======
   "execution_count": 6,
>>>>>>> feature/data-visualization
   "metadata": {},
   "outputs": [
    {
     "name": "stdout",
     "output_type": "stream",
     "text": [
      "11110\n",
      "11140\n",
      "11170\n",
      "11200\n",
      "11200\n",
      "11215\n",
      "1123011260\n",
      "11290\n",
      "11305\n",
      "11320\n",
      "11335\n",
      "11350\n",
      "11380\n",
      "11410\n",
      "11440\n",
      "11470\n",
      "11500\n",
      "11530\n",
      "11545\n",
      "11560\n",
      "11590\n",
      "11620\n",
      "11650\n",
      "11680\n",
      "11710\n",
      "11740\n",
<<<<<<< HEAD
<<<<<<< HEAD
      "[['66,579', '42.29'], ['101,473', '59.74'], ['84,832', '84.9939'], ['104,650', '84.8985'], ['43,384', '38.996'], ['49,702', '39.975'], ['99,491', '84.9625'], ['76,500', '59.975'], ['82,000', '84.997'], ['69,000', '59.996'], ['89,000', '76.65'], ['110,700', '84.97'], ['50,500', '49.92'], ['87,000', '59.96'], ['125,000', '59.5'], ['120,000', '59.97'], ['120,000', '59.97'], ['148,000', '84.99'], ['93,300', '74.9982'], ['110,000', '59.93'], ['140,000', '84.9243'], ['145,000', '84.94'], ['147,500', '84.9243'], ['1,000,000', '200.93'], ['395,000', '101.99'], ['305,000', '84.97'], ['392,000', '84.98'], ['262,000', '84.5978'], ['168,658', '59.9742'], ['182,388', '59.9742'], ['250,000', '84.9642'], ['158,109', '84.99'], ['60,600', '49.795'], ['90,135', '84.1946'], ['112,200', '98.4933'], ['102,998', '84.1946']]\n"
=======
      "[['66,579', '42.29'], ['101,473', '59.74'], ['84,832', '84.9939'], ['104,650', '84.8985'], ['43,384', '38.996'], ['49,702', '39.975'], ['99,491', '84.9625'], ['76,500', '59.975'], ['82,000', '84.997'], ['69,000', '59.996'], ['89,000', '76.65'], ['85,186', '59.96'], ['50,500', '49.92'], ['87,000', '59.96'], ['125,000', '59.5'], ['120,000', '59.97'], ['120,000', '59.97'], ['133,000', '59.97'], ['93,300', '74.9982'], ['110,000', '59.93'], ['140,000', '84.9243'], ['145,000', '84.94'], ['115,000', '59.76'], ['1,000,000', '200.93'], ['395,000', '101.99'], ['305,000', '84.97'], ['392,000', '84.98'], ['178,000', '59.9751'], ['168,658', '59.9742'], ['182,388', '59.9742'], ['250,000', '84.9642'], ['60,600', '49.795'], ['90,135', '84.1946'], ['112,200', '98.4933'], ['102,998', '84.1946']]\n"
>>>>>>> feature/linear-regression
=======
      "[['66,579', '42.29'], ['101,473', '59.74'], ['84,832', '84.9939'], ['104,650', '84.8985'], ['43,384', '38.996'], ['49,702', '39.975'], ['99,491', '84.9625'], ['76,500', '59.975'], ['82,000', '84.997'], ['69,000', '59.996'], ['89,000', '76.65'], ['85,186', '59.96'], ['50,500', '49.92'], ['87,000', '59.96'], ['125,000', '59.5'], ['120,000', '59.97'], ['120,000', '59.97'], ['133,000', '59.97'], ['93,300', '74.9982'], ['110,000', '59.93'], ['140,000', '84.9243'], ['145,000', '84.94'], ['115,000', '59.76'], ['1,000,000', '200.93'], ['395,000', '101.99'], ['305,000', '84.97'], ['392,000', '84.98'], ['178,000', '59.9751'], ['168,658', '59.9742'], ['182,388', '59.9742'], ['250,000', '84.9642'], ['60,600', '49.795'], ['90,135', '84.1946'], ['112,200', '98.4933'], ['102,998', '84.1946']]\n"
>>>>>>> feature/data-visualization
     ]
    }
   ],
   "source": [
    "# 구의 법정동 코드를 전달해서 해당 구의 1월부터 5월까지 분양권 전매 내역을 조회\n",
    "# 그 중 전용면적과 거래금액만을 추출해서 저장하는 함수\n",
    "from bs4 import BeautifulSoup\n",
    "from urllib.request import urlopen\n",
    "\n",
    "datas = []\n",
    "\n",
    "def get_datas(region_code):\n",
    "    # 1월부터 5월까지의 거래내역\n",
    "    for i in range(1,6):\n",
    "        url = f'http://openapi.molit.go.kr/OpenAPI_ToolInstallPackage/service/rest/RTMSOBJSvc/getRTMSDataSvcSilvTrade?serviceKey={api_keys.encoding_key}&LAWD_CD={region_code}&DEAL_YMD=20230{i}'\n",
    "        response = urlopen(url)\n",
    "        result = BeautifulSoup(response,'xml')\n",
    "        items = result.find_all('item')\n",
    "        data = []\n",
    "        for item in items:\n",
    "            price = item.find('거래금액').text\n",
    "            space = item.find('전용면적').text\n",
    "            data = [price, space]\n",
    "        if(len(data) != 0):\n",
    "            datas.append(data)\n",
    "        \n",
    "for code in region_codes:\n",
    "    print(code)\n",
    "    get_datas(code)\n",
    "    \n",
    "print(datas)"
   ]
  },
  {
   "cell_type": "code",
<<<<<<< HEAD
<<<<<<< HEAD
   "execution_count": 8,
=======
   "execution_count": 25,
>>>>>>> feature/linear-regression
=======
   "execution_count": 7,
>>>>>>> feature/data-visualization
   "metadata": {},
   "outputs": [
    {
     "name": "stdout",
     "output_type": "stream",
     "text": [
<<<<<<< HEAD
      "<bound method NDFrame.head of         price    space\n",
      "0      66,579    42.29\n",
      "1     101,473    59.74\n",
      "2      84,832  84.9939\n",
      "3     104,650  84.8985\n",
      "4      43,384   38.996\n",
      "5      49,702   39.975\n",
      "6      99,491  84.9625\n",
      "7      76,500   59.975\n",
      "8      82,000   84.997\n",
      "9      69,000   59.996\n",
      "10     89,000    76.65\n",
      "11     85,186    59.96\n",
      "12     50,500    49.92\n",
      "13     87,000    59.96\n",
      "14    125,000     59.5\n",
      "15    120,000    59.97\n",
      "16    120,000    59.97\n",
      "17    148,000    84.99\n",
      "18     93,300  74.9982\n",
      "19    110,000    59.93\n",
      "20    140,000  84.9243\n",
      "21    145,000    84.94\n",
      "22    147,500  84.9243\n",
      "23  1,000,000   200.93\n",
      "24    395,000   101.99\n",
      "25    305,000    84.97\n",
      "26    392,000    84.98\n",
      "27    178,000  59.9751\n",
      "28    168,658  59.9742\n",
      "29    182,388  59.9742\n",
      "30    250,000  84.9642\n",
      "31    158,109    84.99\n",
      "32     60,600   49.795\n",
      "33     90,135  84.1946\n",
      "34    112,200  98.4933\n",
      "35    102,998  84.1946>\n"
=======
      "<bound method NDFrame.head of           price    space\n",
      "0        99,960    84.92\n",
      "1        72,000  59.9426\n",
      "2        13,000   19.466\n",
      "3       183,500  84.8359\n",
      "4        13,400   19.466\n",
      "..          ...      ...\n",
      "115     142,000   133.65\n",
      "116     109,000    84.93\n",
      "117      62,900    59.79\n",
      "118      88,000    84.96\n",
      "119     109,000    59.11\n",
      "\n",
      "[120 rows x 2 columns]>\n"
>>>>>>> feature/linear-regression
     ]
    }
   ],
   "source": [
    "# 데이터 프레임 생성\n",
    "import pandas as pd\n",
    "\n",
    "df = pd.DataFrame(datas, columns=['price','space'])\n",
    "\n",
    "print(df.head)"
   ]
  },
  {
   "cell_type": "code",
<<<<<<< HEAD
<<<<<<< HEAD
   "execution_count": 7,
=======
   "execution_count": 26,
>>>>>>> feature/linear-regression
=======
   "execution_count": 8,
>>>>>>> feature/data-visualization
   "metadata": {},
   "outputs": [
    {
     "name": "stdout",
     "output_type": "stream",
     "text": [
<<<<<<< HEAD
      "<bound method NDFrame.head of       price    space\n",
      "0    66,579    42.29\n",
      "1   101,473    59.74\n",
      "2    84,832  84.9939\n",
      "3   104,650  84.8985\n",
      "4    43,384   38.996\n",
      "5    49,702   39.975\n",
      "6    99,491  84.9625\n",
      "7    76,500   59.975\n",
      "8    82,000   84.997\n",
      "9    69,000   59.996\n",
      "10   89,000    76.65\n",
      "11   85,186    59.96\n",
      "12   50,500    49.92\n",
      "13   87,000    59.96\n",
      "14  125,000     59.5\n",
      "15  120,000    59.97\n",
      "16  120,000    59.97\n",
      "17  133,000    59.97\n",
      "18   93,300  74.9982\n",
      "19  110,000    59.93\n",
      "20  140,000  84.9243\n",
      "21  145,000    84.94\n",
      "22  115,000    59.76\n",
      "24  395,000   101.99\n",
      "25  305,000    84.97\n",
      "26  392,000    84.98\n",
      "27  178,000  59.9751\n",
      "28  168,658  59.9742\n",
      "29  182,388  59.9742\n",
      "30  250,000  84.9642\n",
      "31   60,600   49.795\n",
      "32   90,135  84.1946\n",
      "33  112,200  98.4933\n",
      "34  102,998  84.1946>\n"
=======
      "<bound method NDFrame.head of           price    space\n",
      "0        99,960    84.92\n",
      "1        72,000  59.9426\n",
      "2        13,000   19.466\n",
      "3       183,500  84.8359\n",
      "4        13,400   19.466\n",
      "..          ...      ...\n",
      "115     142,000   133.65\n",
      "116     109,000    84.93\n",
      "117      62,900    59.79\n",
      "118      88,000    84.96\n",
      "119     109,000    59.11\n",
      "\n",
      "[119 rows x 2 columns]>\n"
>>>>>>> feature/linear-regression
     ]
    }
   ],
   "source": [
    "# 이상데이터 제거\n",
    "# 100억원에 거래된 200제곱미터의 아파트는 일반화하는 데에 어려움을 일으킬 수 있으므로\n",
    "# 23번째 데이터를 삭제\n",
    "\n",
    "df.drop([23], axis=0, inplace=True)\n",
    "\n",
    "print(df.head)"
   ]
  },
  {
   "cell_type": "code",
<<<<<<< HEAD
<<<<<<< HEAD
   "execution_count": 9,
=======
   "execution_count": 29,
>>>>>>> feature/linear-regression
=======
   "execution_count": 12,
   "metadata": {},
   "outputs": [
    {
     "data": {
      "text/plain": [
       "<function matplotlib.pyplot.show(close=None, block=None)>"
      ]
     },
     "execution_count": 12,
     "metadata": {},
     "output_type": "execute_result"
    },
    {
     "data": {
      "image/png": "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",
      "text/plain": [
       "<Figure size 640x480 with 1 Axes>"
      ]
     },
     "metadata": {},
     "output_type": "display_data"
    }
   ],
   "source": [
    "# 데이터 시각화\n",
    "import matplotlib.pyplot as plt\n",
    "\n",
    "price = df['price']\n",
    "space = df['space']\n",
    "\n",
    "plt.plot(price,space,'o')\n",
    "plt.show\n"
   ]
  },
  {
   "cell_type": "code",
   "execution_count": 39,
>>>>>>> feature/data-visualization
   "metadata": {},
   "outputs": [
    {
     "name": "stdout",
     "output_type": "stream",
     "text": [
      "<bound method NDFrame.head of       price     space\n",
      "0   105,000     59.99\n",
      "1    90,000     84.95\n",
      "2    75,482     59.97\n",
      "3    87,000     59.94\n",
      "4   127,850     59.97\n",
      "5   101,500     43.27\n",
      "6   127,000     59.97\n",
      "7   102,500     59.99\n",
      "8   120,000      84.9\n",
      "9   590,000   175.853\n",
      "10   86,500    30.726\n",
      "11   85,500   36.5219\n",
      "12  300,340     84.95\n",
      "13  320,000     84.98\n",
      "14  365,297  112.8548\n",
      "15  230,000   84.9956\n",
      "16  215,000   84.5978>\n"
     ]
    }
   ],
   "source": [
    "# 더 많은 데이터의 수집 필요\n",
    "# 기존 데이터 수집 함수를 사용해서 작년 하반기의 데이터를 추가로 수집\n",
    "\n",
    "new_datas = []\n",
    "\n",
    "def get_datas(region_code):\n",
    "    # 7월부터 9월\n",
    "    for i in range(7,10):\n",
    "        url = f'http://openapi.molit.go.kr/OpenAPI_ToolInstallPackage/service/rest/RTMSOBJSvc/getRTMSDataSvcSilvTrade?serviceKey={api_keys.encoding_key}&LAWD_CD={region_code}&DEAL_YMD=20220{i}'\n",
    "        response = urlopen(url)\n",
    "        result = BeautifulSoup(response,'xml')\n",
    "        items = result.find_all('item')\n",
    "        data = []\n",
    "        for item in items:\n",
    "            price = item.find('거래금액').text\n",
    "            space = item.find('전용면적').text\n",
    "            data = [price, space]\n",
    "        if(len(data) != 0):\n",
    "            new_datas.append(data)\n",
    "    # 10월부터 12월\n",
    "    for i in range(10,13):\n",
    "        url = f'http://openapi.molit.go.kr/OpenAPI_ToolInstallPackage/service/rest/RTMSOBJSvc/getRTMSDataSvcSilvTrade?serviceKey={api_keys.encoding_key}&LAWD_CD={region_code}&DEAL_YMD=2022{i}'\n",
    "        response = urlopen(url)\n",
    "        result = BeautifulSoup(response,'xml')\n",
    "        items = result.find_all('item')\n",
    "        data = []\n",
    "        for item in items:\n",
    "            price = item.find('거래금액').text\n",
    "            space = item.find('전용면적').text\n",
    "            data = [price, space]\n",
    "        if(len(data) != 0):\n",
    "            new_datas.append(data)\n",
    "            \n",
    "for code in region_codes:\n",
    "    get_datas(code)\n",
    "\n",
    "df2 = pd.DataFrame(new_datas, columns=['price','space'])\n",
    "\n",
<<<<<<< HEAD
    "print(df2.head)\n",
    "\n",
    "    \n"
=======
    "print(df2.head)\n"
>>>>>>> feature/data-visualization
   ]
  },
  {
   "cell_type": "code",
<<<<<<< HEAD
<<<<<<< HEAD
   "execution_count": 10,
=======
   "execution_count": 30,
>>>>>>> feature/linear-regression
=======
   "execution_count": 40,
>>>>>>> feature/data-visualization
   "metadata": {},
   "outputs": [
    {
     "name": "stdout",
     "output_type": "stream",
     "text": [
      "<bound method NDFrame.head of       price     space\n",
      "0   105,000     59.99\n",
      "1    90,000     84.95\n",
      "2    75,482     59.97\n",
      "3    87,000     59.94\n",
      "4   127,850     59.97\n",
      "5   101,500     43.27\n",
      "6   127,000     59.97\n",
      "7   102,500     59.99\n",
      "8   120,000      84.9\n",
      "10   86,500    30.726\n",
      "11   85,500   36.5219\n",
      "12  300,340     84.95\n",
      "13  320,000     84.98\n",
      "14  365,297  112.8548\n",
      "15  230,000   84.9956\n",
      "16  215,000   84.5978>\n"
     ]
    }
   ],
   "source": [
    "# 선형 회귀로 확인 결과 59억원 데이터를 삭제하는 것이 도움이 될 것으로 보임\n",
    "\n",
    "df2.drop([9], axis=0, inplace=True)\n",
    "\n",
    "print(df2.head)"
   ]
  },
  {
   "cell_type": "code",
<<<<<<< HEAD
<<<<<<< HEAD
   "execution_count": 11,
=======
   "execution_count": 31,
>>>>>>> feature/linear-regression
=======
   "execution_count": 41,
>>>>>>> feature/data-visualization
   "metadata": {},
   "outputs": [
    {
     "name": "stdout",
     "output_type": "stream",
     "text": [
<<<<<<< HEAD
<<<<<<< HEAD
      "<bound method NDFrame.head of         price     space\n",
      "0      66,579     42.29\n",
      "1     101,473     59.74\n",
      "2      84,832   84.9939\n",
      "3     104,650   84.8985\n",
      "4      43,384    38.996\n",
      "5      49,702    39.975\n",
      "6      99,491   84.9625\n",
      "7      76,500    59.975\n",
      "8      82,000    84.997\n",
      "9      69,000    59.996\n",
      "10     89,000     76.65\n",
      "11    110,700     84.97\n",
      "12     50,500     49.92\n",
      "13     87,000     59.96\n",
      "14    125,000      59.5\n",
      "15    120,000     59.97\n",
      "16    120,000     59.97\n",
      "17    148,000     84.99\n",
      "18     93,300   74.9982\n",
      "19    110,000     59.93\n",
      "20    140,000   84.9243\n",
      "21    145,000     84.94\n",
      "22    147,500   84.9243\n",
      "23  1,000,000    200.93\n",
      "24    395,000    101.99\n",
      "25    305,000     84.97\n",
      "26    392,000     84.98\n",
      "27    262,000   84.5978\n",
      "28    168,658   59.9742\n",
      "29    182,388   59.9742\n",
      "30    250,000   84.9642\n",
      "31    158,109     84.99\n",
      "32     60,600    49.795\n",
      "33     90,135   84.1946\n",
      "34    112,200   98.4933\n",
      "35    102,998   84.1946\n",
      "0     105,000     59.99\n",
      "1      90,000     84.95\n",
      "2      75,482     59.97\n",
      "3      87,000     59.94\n",
      "4     127,850     59.97\n",
      "5     101,500     43.27\n",
      "6     127,000     59.97\n",
      "7     102,500     59.99\n",
      "8     120,000      84.9\n",
      "10     86,500    30.726\n",
      "11     85,500   36.5219\n",
      "12    300,340     84.95\n",
      "13    320,000     84.98\n",
      "14    365,297  112.8548\n",
      "15    230,000   84.9956\n",
      "16    215,000   84.5978>\n"
=======
=======
>>>>>>> feature/data-visualization
      "<bound method NDFrame.head of          price     space\n",
      "0       99,960     84.92\n",
      "1       72,000   59.9426\n",
      "2       13,000    19.466\n",
      "3      183,500   84.8359\n",
      "4       13,400    19.466\n",
      "..         ...       ...\n",
      "12     300,340     84.95\n",
      "13     320,000     84.98\n",
      "14     365,297  112.8548\n",
      "15     230,000   84.9956\n",
      "16     215,000   84.5978\n",
      "\n",
      "[135 rows x 2 columns]>\n"
<<<<<<< HEAD
>>>>>>> feature/linear-regression
=======
>>>>>>> feature/data-visualization
     ]
    }
   ],
   "source": [
    "# 두 데이터 프레임 결합\n",
    "\n",
    "new_df = pd.concat([df,df2])\n",
    "\n",
    "print(new_df.head)"
   ]
  },
  {
   "cell_type": "code",
<<<<<<< HEAD
<<<<<<< HEAD
   "execution_count": 18,
=======
   "execution_count": 32,
>>>>>>> feature/linear-regression
=======
   "execution_count": 47,
>>>>>>> feature/data-visualization
   "metadata": {},
   "outputs": [
    {
     "name": "stdout",
     "output_type": "stream",
     "text": [
<<<<<<< HEAD
<<<<<<< HEAD
      "http://openapi.molit.go.kr/OpenAPI_ToolInstallPackage/service/rest/RTMSOBJSvc/getRTMSDataSvcAptTradeDev?serviceKey=v7B0tEbMiKVQgBnetmAWaDANBgYRM%2F2Cla%2BOTLC7%2FVQJQGPCwPKQkENMiPcKjODZGZz%2FrmsOUfecJmbYyV63Dg%3D%3D&LAWD_CD=11200&DEAL_YMD=201602\n",
      "[<item><거래금액>    35,000</거래금액><거래유형> </거래유형><건축년도>1989</건축년도><년>2016</년><도로명>왕십리로31나길</도로명><도로명건물본번호코드>00022</도로명건물본번호코드><도로명건물부번호코드>00000</도로명건물부번호코드><도로명시군구코드>11200</도로명시군구코드><도로명일련번호코드>01</도로명일련번호코드><도로명지상지하코드>0</도로명지상지하코드><도로명코드>4109448</도로명코드><법정동> 하왕십리동</법정동><법정동본번코드>0990</법정동본번코드><법정동부번코드>0000</법정동부번코드><법정동시군구코드>11200</법정동시군구코드><법정동읍면동코드>10200</법정동읍면동코드><법정동지번코드>1</법정동지번코드><아파트>한신무학</아파트><월>2</월><일>1</일><일련번호>11200-5</일련번호><전용면적>62.41</전용면적><중개사소재지> </중개사소재지><지번>990</지번><지역코드>11200</지역코드><층>13</층><해제사유발생일> </해제사유발생일><해제여부> </해제여부></item>, <item><거래금액>    13,000</거래금액><거래유형> </거래유형><건축년도>2013</건축년도><년>2016</년><도로명>무학봉28길</도로명><도로명건물본번호코드>00005</도로명건물본번호코드><도로명건물부번호코드>00000</도로명건물부번호코드><도로명시군구코드>11200</도로명시군구코드><도로명일련번호코드>01</도로명일련번호코드><도로명지상지하코드>0</도로명지상지하코드><도로명코드>4109274</도로명코드><법정동> 하왕십리동</법정동><법정동본번코드>0966</법정동본번코드><법정동부번코드>0018</법정동부번코드><법정동시군구코드>11200</법정동시군구코드><법정동읍면동코드>10200</법정동읍면동코드><법정동지번코드>1</법정동지번코드><아파트>상리제나우스</아파트><월>2</월><일>1</일><일련번호>11200-2991</일련번호><전용면적>12.84</전용면적><중개사소재지> </중개사소재지><지번>966-18</지번><지역코드>11200</지역코드><층>9</층><해제사유발생일> </해제사유발생일><해제여부> </해제여부></item>, <item><거래금액>    44,000</거래금액><거래유형> </거래유형><건축년도>2004</건축년도><년>2016</년><도로명>난계로</도로명><도로명건물본번호코드>00084</도로명건물본번호코드><도로명건물부번호코드>00000</도로명건물부번호코드><도로명시군구코드>11200</도로명시군구코드><도로명일련번호코드>02</도로명일련번호코드><도로명지상지하코드>0</도로명지상지하코드><도로명코드>3100018</도로명코드><법정동> 하왕십리동</법정동><법정동본번코드>1061</법정동본번코드><법정동부번코드>0000</법정동부번코드><법정동시군구코드>11200</법정동시군구코드><법정동읍면동코드>10200</법정동읍면동코드><법정동지번코드>1</법정동지번코드><아파트>왕십리풍림아이원</아파트><월>2</월><일>6</일><일련번호>11200-98</일련번호><전용면적>59.936</전용면적><중개사소재지> </중개사소재지><지번>1061</지번><지역코드>11200</지역코드><층>6</층><해제사유발생일> </해제사유발생일><해제여부> </해제여부></item>, <item><거래금액>    33,000</거래금액><거래유형> </거래유형><건축년도>1989</건축년도><년>2016</년><도로명>왕십리로31나길</도로명><도로명건물본번호코드>00022</도로명건물본번호코드><도로명건물부번호코드>00000</도로명건물부번호코드><도로명시군구코드>11200</도로명시군구코드><도로명일련번호코드>01</도로명일련번호코드><도로명지상지하코드>0</도로명지상지하코드><도로명코드>4109448</도로명코드><법정동> 하왕십리동</법정동><법정동본번코드>0990</법정동본번코드><법정동부번코드>0000</법정동부번코드><법정동시군구코드>11200</법정동시군구코드><법정동읍면동코드>10200</법정동읍면동코드><법정동지번코드>1</법정동지번코드><아파트>한신무학</아파트><월>2</월><일>7</일><일련번호>11200-5</일련번호><전용면적>62.41</전용면적><중개사소재지> </중개사소재지><지번>990</지번><지역코드>11200</지역코드><층>11</층><해제사유발생일> </해제사유발생일><해제여부> </해제여부></item>, <item><거래금액>    43,000</거래금액><거래유형> </거래유형><건축년도>2001</건축년도><년>2016</년><도로명>난계로</도로명><도로명건물본번호코드>00114</도로명건물본번호코드><도로명건물부번호코드>00031</도로명건물부번호코드><도로명시군구코드>11200</도로명시군구코드><도로명일련번호코드>02</도로명일련번호코드><도로명지상지하코드>0</도로명지상지하코드><도로명코드>3100018</도로명코드><법정동> 하왕십리동</법정동><법정동본번코드>1052</법정동본번코드><법정동부번코드>0000</법정동부번코드><법정동시군구코드>11200</법정동시군구코드><법정동읍면동코드>10200</법정동읍면동코드><법정동지번코드>1</법정동지번코드><아파트>금호베스트빌</아파트><월>2</월><일>12</일><일련번호>11200-2</일련번호><전용면적>84.97</전용면적><중개사소재지> </중개사소재지><지번>1052</지번><지역코드>11200</지역코드><층>9</층><해제사유발생일> </해제사유발생일><해제여부> </해제여부></item>, <item><거래금액>    37,000</거래금액><거래유형> </거래유형><건축년도>1996</건축년도><년>2016</년><도로명>무학봉길</도로명><도로명건물본번호코드>00049</도로명건물본번호코드><도로명건물부번호코드>00000</도로명건물부번호코드><도로명시군구코드>11200</도로명시군구코드><도로명일련번호코드>01</도로명일련번호코드><도로명지상지하코드>0</도로명지상지하코드><도로명코드>4109280</도로명코드><법정동> 하왕십리동</법정동><법정동본번코드>0992</법정동본번코드><법정동부번코드>0000</법정동부번코드><법정동시군구코드>11200</법정동시군구코드><법정동읍면동코드>10200</법정동읍면동코드><법정동지번코드>1</법정동지번코드><아파트>무학현대</아파트><월>2</월><일>16</일><일련번호>11200-3</일련번호><전용면적>84.675</전용면적><중개사소재지> </중개사소재지><지번>992</지번><지역코드>11200</지역코드><층>6</층><해제사유발생일> </해제사유발생일><해제여부> </해제여부></item>, <item><거래금액>    44,000</거래금액><거래유형> </거래유형><건축년도>1989</건축년도><년>2016</년><도로명>왕십리로31나길</도로명><도로명건물본번호코드>00022</도로명건물본번호코드><도로명건물부번호코드>00000</도로명건물부번호코드><도로명시군구코드>11200</도로명시군구코드><도로명일련번호코드>01</도로명일련번호코드><도로명지상지하코드>0</도로명지상지하코드><도로명코드>4109448</도로명코드><법정동> 하왕십리동</법정동><법정동본번코드>0990</법정동본번코드><법정동부번코드>0000</법정동부번코드><법정동시군구코드>11200</법정동시군구코드><법정동읍면동코드>10200</법정동읍면동코드><법정동지번코드>1</법정동지번코드><아파트>한신무학</아파트><월>2</월><일>16</일><일련번호>11200-5</일련번호><전용면적>94.46</전용면적><중개사소재지> </중개사소재지><지번>990</지번><지역코드>11200</지역코드><층>12</층><해제사유발생일> </해제사유발생일><해제여부> </해제여부></item>, <item><거래금액>    33,000</거래금액><거래유형> </거래유형><건축년도>1989</건축년도><년>2016</년><도로명>왕십리로31나길</도로명><도로명건물본번호코드>00022</도로명건물본번호코드><도로명건물부번호코드>00000</도로명건물부번호코드><도로명시군구코드>11200</도로명시군구코드><도로명일련번호코드>01</도로명일련번호코드><도로명지상지하코드>0</도로명지상지하코드><도로명코드>4109448</도로명코드><법정동> 하왕십리동</법정동><법정동본번코드>0990</법정동본번코드><법정동부번코드>0000</법정동부번코드><법정동시군구코드>11200</법정동시군구코드><법정동읍면동코드>10200</법정동읍면동코드><법정동지번코드>1</법정동지번코드><아파트>한신무학</아파트><월>2</월><일>17</일><일련번호>11200-5</일련번호><전용면적>62.41</전용면적><중개사소재지> </중개사소재지><지번>990</지번><지역코드>11200</지역코드><층>11</층><해제사유발생일> </해제사유발생일><해제여부> </해제여부></item>, <item><거래금액>    53,000</거래금액><거래유형> </거래유형><건축년도>2004</건축년도><년>2016</년><도로명>난계로</도로명><도로명건물본번호코드>00084</도로명건물본번호코드><도로명건물부번호코드>00000</도로명건물부번호코드><도로명시군구코드>11200</도로명시군구코드><도로명일련번호코드>02</도로명일련번호코드><도로명지상지하코드>0</도로명지상지하코드><도로명코드>3100018</도로명코드><법정동> 하왕십리동</법정동><법정동본번코드>1061</법정동본번코드><법정동부번코드>0000</법정동부번코드><법정동시군구코드>11200</법정동시군구코드><법정동읍면동코드>10200</법정동읍면동코드><법정동지번코드>1</법정동지번코드><아파트>왕십리풍림아이원</아파트><월>2</월><일>19</일><일련번호>11200-98</일련번호><전용면적>114.928</전용면적><중개사소재지> </중개사소재지><지번>1061</지번><지역코드>11200</지역코드><층>2</층><해제사유발생일> </해제사유발생일><해제여부> </해제여부></item>, <item><거래금액>    35,000</거래금액><거래유형> </거래유형><건축년도>1996</건축년도><년>2016</년><도로명>무학봉길</도로명><도로명건물본번호코드>00049</도로명건물본번호코드><도로명건물부번호코드>00000</도로명건물부번호코드><도로명시군구코드>11200</도로명시군구코드><도로명일련번호코드>01</도로명일련번호코드><도로명지상지하코드>0</도로명지상지하코드><도로명코드>4109280</도로명코드><법정동> 하왕십리동</법정동><법정동본번코드>0992</법정동본번코드><법정동부번코드>0000</법정동부번코드><법정동시군구코드>11200</법정동시군구코드><법정동읍면동코드>10200</법정동읍면동코드><법정동지번코드>1</법정동지번코드><아파트>무학현대</아파트><월>2</월><일>22</일><일련번호>11200-3</일련번호><전용면적>84.495</전용면적><중개사소재지> </중개사소재지><지번>992</지번><지역코드>11200</지역코드><층>1</층><해제사유발생일> </해제사유발생일><해제여부> </해제여부></item>]\n"
     ]
    }
   ],
   "source": [
    "# 일반 부동산 거래 예시 데이터\n",
    "url2=f'http://openapi.molit.go.kr/OpenAPI_ToolInstallPackage/service/rest/RTMSOBJSvc/getRTMSDataSvcAptTradeDev?serviceKey={api_keys.encoding_key}&LAWD_CD=11200&DEAL_YMD=201602'\n",
    "\n",
    "response2 = urlopen(url2)\n",
    "\n",
    "print(url2)\n",
    "\n",
    "result2 = BeautifulSoup(response2,'xml')\n",
    "items2 = result2.find_all('item')\n",
    "\n",
    "print(items2)"
=======
=======
>>>>>>> feature/data-visualization
      "[120367.51585259]\n"
     ]
    },
    {
     "data": {
      "image/png": "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",
      "text/plain": [
       "<Figure size 640x480 with 1 Axes>"
      ]
     },
     "metadata": {},
     "output_type": "display_data"
    }
   ],
   "source": [
    "# 선형 회귀\n",
    "from sklearn.linear_model import LinearRegression\n",
    "import matplotlib.pyplot as plt\n",
    "import numpy as np\n",
    "\n",
    "price = new_df['price']\n",
    "space = new_df['space']\n",
    "\n",
    "prices = list(map(str,price))\n",
    "\n",
    "new_price = []\n",
    "\n",
    "# 100,000 형태의 문자열을 치환한 후 정수로 변환\n",
    "for i in range(0,len(prices)):\n",
    "    temp = prices[i].replace(\",\",\"\")\n",
    "    new_price.append(int(temp))\n",
    "\n",
    "# 실수형으로 변환\n",
    "new_space = list(map(float,space))\n",
    "\n",
    "new_price = np.array(new_price)\n",
    "new_space = np.array(new_space)\n",
    "\n",
    "linear_fitter = LinearRegression()\n",
    "linear_fitter.fit(new_space.reshape(-1,1),new_price)\n",
    "\n",
    "print(linear_fitter.predict([[87]]))\n",
    "\n",
    "plt.plot(new_space,new_price,'o')\n",
    "plt.plot(new_space, linear_fitter.predict(new_space.reshape(-1,1)))\n",
    "plt.show()"
<<<<<<< HEAD
>>>>>>> feature/linear-regression
=======
>>>>>>> feature/data-visualization
   ]
  },
  {
   "cell_type": "code",
<<<<<<< HEAD
<<<<<<< HEAD
   "execution_count": 21,
=======
   "execution_count": 33,
>>>>>>> feature/linear-regression
=======
   "execution_count": 43,
>>>>>>> feature/data-visualization
   "metadata": {},
   "outputs": [
    {
     "name": "stdout",
     "output_type": "stream",
     "text": [
      "11110\n",
      "11140\n",
      "11170\n",
      "11200\n",
      "11200\n",
      "11215\n",
      "1123011260\n",
      "11290\n",
      "11305\n",
      "11320\n",
      "11335\n",
      "11350\n",
      "11380\n",
      "11410\n",
      "11440\n",
      "11470\n",
      "11500\n",
      "11530\n",
      "11545\n",
      "11560\n",
      "11590\n",
      "11620\n",
      "11650\n",
      "11680\n",
      "11710\n",
      "11740\n",
      "[['    99,960', '84.92'], ['    72,000', '59.9426'], ['    13,000', '19.466'], ['   183,500', '84.8359'], ['    13,400', '19.466'], ['    23,000', '19.06'], ['   101,000', '84.85'], ['   150,000', '145.1'], ['   104,000', '84.85'], ['   116,000', '84.88'], ['   176,000', '84.89'], ['    24,500', '45.26'], ['    16,000', '13.69'], ['    65,000', '107.83'], ['   243,000', '100.29'], ['    69,000', '59.94'], ['   128,000', '84.96'], ['   105,000', '59.99'], ['   147,500', '84.88'], ['    83,000', '59.936'], ['    69,000', '59.94'], ['   128,000', '84.96'], ['   105,000', '59.99'], ['   147,500', '84.88'], ['    83,000', '59.936'], ['   180,000', '158.26'], ['   105,000', '84.97'], ['   100,000', '84.92'], ['    79,000', '59.98'], ['   110,000', '84.76'], ['    90,000', '114.86'], ['    50,000', '59.58'], ['    51,000', '59.58'], ['    88,000', '132.96'], ['    63,500', '84.8'], ['    81,000', '84.67'], ['    73,000', '114.85'], ['    74,800', '59.818'], ['    46,800', '59.67'], ['    64,000', '84.71'], ['    17,000', '48.61'], ['    49,500', '70.13'], ['    39,000', '59.67'], ['    49,700', '84.66'], ['    55,000', '83.86'], ['    64,750', '59.22'], ['    65,000', '50.14'], ['    67,000', '50.14'], ['    78,000', '84.97'], ['    62,000', '50.14'], ['    78,000', '59.98'], ['    86,000', '84.99'], ['    80,000', '59.938'], ['    83,500', '59.938'], ['    81,000', '59.938'], ['    69,200', '44.9401'], ['   137,000', '109.0901'], ['    67,000', '34.9408'], ['    81,000', '59.58'], ['    55,000', '59.4'], ['   155,000', '114.98'], ['   103,000', '59.97'], ['   162,000', '84.5978'], ['   119,500', '104.89'], ['   152,000', '84.8919'], ['   149,000', '92.07'], ['    82,000', '84.985'], ['   183,500', '105.58'], ['   132,000', '70.73'], ['   112,000', '54.94'], ['    48,000', '41.85'], ['    65,000', '84.91'], ['    78,000', '84.34'], ['    63,500', '59.94'], ['    86,400', '84.95'], ['    65,000', '84.945'], ['   150,000', '117.74'], ['    71,000', '59.88'], ['    85,000', '84.789'], ['    84,000', '59.88'], ['    59,000', '84.84'], ['    77,000', '129.66'], ['    94,000', '84.8114'], ['    91,000', '84.3963'], ['    45,100', '89.46'], ['   225,000', '141.75'], ['    61,000', '38.441'], ['   133,000', '84.75'], ['    10,350', '13.53'], ['    19,000', '14.8376'], ['    72,000', '84.52'], ['    12,900', '14.1881'], ['    87,200', '84.9883'], ['   117,000', '84.995'], ['    14,500', '14.7'], ['    79,000', '84.74'], ['    75,000', '84.96'], ['    78,400', '84.96'], ['    78,900', '84.96'], ['    64,750', '59.85'], ['   183,500', '81.01'], ['   130,000', '84.91'], ['   127,000', '59.94'], ['   217,500', '105.86'], ['   179,000', '88.26'], ['    81,700', '33.18'], ['   178,000', '84.97'], ['   116,000', '114.01'], ['   173,000', '59.4'], ['   174,500', '59.8848'], ['   175,300', '84.82'], ['   189,000', '84.99'], ['   214,000', '84.97'], ['   205,000', '84.99'], ['   215,000', '84.8'], ['   142,000', '133.65'], ['   109,000', '84.93'], ['    62,900', '59.79'], ['    88,000', '84.96'], ['   109,000', '59.11']]\n"
     ]
    }
   ],
   "source": [
    "# 데이터의 수가 분양권 전매보다 많으므로 1월부터 5월까지의 데이터만을 사용하는 것으로 결정\n",
    "datas = []\n",
    "\n",
    "def get_datas(region_code):\n",
    "    # 1월부터 5월까지의 거래내역\n",
    "    for i in range(1,6):\n",
    "        url = f'http://openapi.molit.go.kr/OpenAPI_ToolInstallPackage/service/rest/RTMSOBJSvc/getRTMSDataSvcAptTradeDev?serviceKey={api_keys.encoding_key}&LAWD_CD={region_code}&DEAL_YMD=20230{i}'\n",
    "        response = urlopen(url)\n",
    "        result = BeautifulSoup(response,'xml')\n",
    "        items = result.find_all('item')\n",
    "        data = []\n",
    "        for item in items:\n",
    "            price = item.find('거래금액').text\n",
    "            space = item.find('전용면적').text\n",
    "            data = [price, space]\n",
    "        if(len(data) != 0):\n",
    "            datas.append(data)\n",
    "        \n",
    "for code in region_codes:\n",
    "    print(code)\n",
    "    get_datas(code)\n",
    "    \n",
    "print(datas)"
   ]
  },
  {
   "cell_type": "code",
<<<<<<< HEAD
<<<<<<< HEAD
   "execution_count": 22,
=======
   "execution_count": 34,
>>>>>>> feature/linear-regression
=======
   "execution_count": 44,
>>>>>>> feature/data-visualization
   "metadata": {},
   "outputs": [
    {
     "name": "stdout",
     "output_type": "stream",
     "text": [
      "<bound method NDFrame.head of           price    space\n",
      "0        99,960    84.92\n",
      "1        72,000  59.9426\n",
      "2        13,000   19.466\n",
      "3       183,500  84.8359\n",
      "4        13,400   19.466\n",
      "..          ...      ...\n",
      "115     142,000   133.65\n",
      "116     109,000    84.93\n",
      "117      62,900    59.79\n",
      "118      88,000    84.96\n",
      "119     109,000    59.11\n",
      "\n",
      "[120 rows x 2 columns]>\n"
     ]
    }
   ],
   "source": [
    "# 데이터 프레임 생성\n",
    "df_b = pd.DataFrame(datas, columns=['price','space'])\n",
    "\n",
    "print(df_b.head)"
   ]
<<<<<<< HEAD
<<<<<<< HEAD
=======
  },
  {
   "cell_type": "code",
   "execution_count": 38,
=======
  },
  {
   "cell_type": "code",
   "execution_count": 46,
>>>>>>> feature/data-visualization
   "metadata": {},
   "outputs": [
    {
     "name": "stdout",
     "output_type": "stream",
     "text": [
      "[99960, 72000, 13000, 183500, 13400, 23000, 101000, 150000, 104000, 116000, 176000, 24500, 16000, 65000, 243000, 69000, 128000, 105000, 147500, 83000, 69000, 128000, 105000, 147500, 83000, 180000, 105000, 100000, 79000, 110000, 90000, 50000, 51000, 88000, 63500, 81000, 73000, 74800, 46800, 64000, 17000, 49500, 39000, 49700, 55000, 64750, 65000, 67000, 78000, 62000, 78000, 86000, 80000, 83500, 81000, 69200, 137000, 67000, 81000, 55000, 155000, 103000, 162000, 119500, 152000, 149000, 82000, 183500, 132000, 112000, 48000, 65000, 78000, 63500, 86400, 65000, 150000, 71000, 85000, 84000, 59000, 77000, 94000, 91000, 45100, 225000, 61000, 133000, 10350, 19000, 72000, 12900, 87200, 117000, 14500, 79000, 75000, 78400, 78900, 64750, 183500, 130000, 127000, 217500, 179000, 81700, 178000, 116000, 173000, 174500, 175300, 189000, 214000, 205000, 215000, 142000, 109000, 62900, 88000, 109000]\n",
      "[111437.67146413]\n"
     ]
    },
    {
     "data": {
      "image/png": "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",
      "text/plain": [
       "<Figure size 640x480 with 1 Axes>"
      ]
     },
     "metadata": {},
     "output_type": "display_data"
    }
   ],
   "source": [
    "# 일반 부동산 거래에 대한 선형 회귀\n",
    "price = df_b['price']\n",
    "space = df_b['space']\n",
    "\n",
    "prices = list(map(str,price))\n",
    "\n",
    "new_price = []\n",
    "\n",
    "# 왼쪽 공백을 제거하고 100,000 형태의 문자열을 치환한 후 정수로 변환\n",
    "for i in range(0,len(prices)):\n",
    "    temp = prices[i].lstrip()\n",
    "    temp = temp.replace(\",\",\"\")\n",
    "    new_price.append(int(temp))\n",
    "\n",
    "# 실수형으로 변환\n",
    "new_space = list(map(float,space))\n",
    "\n",
    "print(new_price)\n",
    "\n",
    "new_price = np.array(new_price)\n",
    "new_space = np.array(new_space)\n",
    "\n",
<<<<<<< HEAD
    "linear_fitter = LinearRegression()\n",
    "linear_fitter.fit(new_space.reshape(-1,1),new_price)\n",
    "\n",
    "print(linear_fitter.predict([[87]]))\n",
=======
    "linear_fitter2 = LinearRegression()\n",
    "linear_fitter2.fit(new_space.reshape(-1,1),new_price)\n",
    "\n",
    "print(linear_fitter2.predict([[87]]))\n",
>>>>>>> feature/data-visualization
    "\n",
    "plt.plot(new_space,new_price,'o')\n",
    "plt.plot(new_space, linear_fitter.predict(new_space.reshape(-1,1)))\n",
    "plt.show()"
   ]
<<<<<<< HEAD
>>>>>>> feature/linear-regression
=======
  },
  {
   "cell_type": "code",
   "execution_count": 59,
   "metadata": {},
   "outputs": [
    {
     "data": {
      "image/png": "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",
      "text/plain": [
       "<Figure size 640x480 with 1 Axes>"
      ]
     },
     "metadata": {},
     "output_type": "display_data"
    }
   ],
   "source": [
    "# 두 선형회귀 결과에서 대표적인 24평, 28평, 32평 아파트 가격 비교 위해 시각화\n",
    "\n",
    "x = np.arange(6)\n",
    "\n",
    "spaces = [79.33, 92.56, 105.78]\n",
    "new_spaces = [79.33, 79.33, 92.56, 92.56, 105.78, 105.78]\n",
    "prices = [linear_fitter.predict([[spaces[0]]]),linear_fitter2.predict([[spaces[0]]]), linear_fitter.predict([[spaces[1]]]),  linear_fitter2.predict([[spaces[1]]]), linear_fitter.predict([[spaces[2]]]),  linear_fitter2.predict([[spaces[2]]])]\n",
    "prices = list(map(float,prices))\n",
    "\n",
    "plt.bar(x, prices)\n",
    "plt.xticks(x,new_spaces)\n",
    "plt.show()"
   ]
>>>>>>> feature/data-visualization
  }
 ],
 "metadata": {
  "kernelspec": {
   "display_name": "Python 3",
   "language": "python",
   "name": "python3"
  },
  "language_info": {
   "codemirror_mode": {
    "name": "ipython",
    "version": 3
   },
   "file_extension": ".py",
   "mimetype": "text/x-python",
   "name": "python",
   "nbconvert_exporter": "python",
   "pygments_lexer": "ipython3",
   "version": "3.11.2"
  },
  "orig_nbformat": 4
 },
 "nbformat": 4,
 "nbformat_minor": 2
}
