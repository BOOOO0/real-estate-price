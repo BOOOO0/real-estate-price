{
 "cells": [
  {
   "cell_type": "code",
   "execution_count": 13,
   "metadata": {},
   "outputs": [],
   "source": [
    "# 공공 데이터 API 호출 서비스 키 모듈 호출\n",
    "import api_keys"
   ]
  },
  {
   "cell_type": "code",
   "execution_count": 14,
   "metadata": {},
   "outputs": [],
   "source": [
    "# 서울시 모든 구의 법정동 코드\n",
    "region_codes = ['11110', '11140', '11170', '11200', '11200', '11215', '11230' '11260', '11290', '11305', '11320', '11335', '11350', '11380', '11410', '11440', '11470', '11500', '11530', '11545', '11560', '11590', '11620', '11650', '11680', '11710', '11740']"
   ]
  },
  {
   "cell_type": "code",
   "execution_count": 15,
   "metadata": {},
   "outputs": [
    {
     "name": "stdout",
     "output_type": "stream",
     "text": [
      "[<item><거래금액>110,000</거래금액><거래유형>중개거래</거래유형><구분>입</구분><년>2023</년><단지>흑석리버파크자이</단지><법정동> 흑석동</법정동><시군구>동작구</시군구><월>1</월><일>28</일><전용면적>59.93</전용면적><중개사소재지>서울 동작구</중개사소재지><지번>253-89</지번><지역코드>11590</지역코드><층>6</층><해제사유발생일> </해제사유발생일><해제여부> </해제여부></item>]\n"
     ]
    }
   ],
   "source": [
    "# 예시 데이터 출력\n",
    "from bs4 import BeautifulSoup\n",
    "from urllib.request import urlopen\n",
    "\n",
    "url = f'http://openapi.molit.go.kr/OpenAPI_ToolInstallPackage/service/rest/RTMSOBJSvc/getRTMSDataSvcSilvTrade?serviceKey={api_keys.encoding_key}&LAWD_CD={region_codes[20]}&DEAL_YMD=202301'\n",
    "\n",
    "response = urlopen(url)\n",
    "\n",
    "result = BeautifulSoup(response,'xml')\n",
    "items = result.find_all('item')\n",
    "\n",
    "print(items)"
   ]
  },
  {
   "cell_type": "code",
   "execution_count": 16,
   "metadata": {},
   "outputs": [
    {
     "name": "stdout",
     "output_type": "stream",
     "text": [
      "11110\n",
      "11140\n",
      "11170\n",
      "11200\n",
      "11200\n",
      "11215\n",
      "1123011260\n",
      "11290\n",
      "11305\n",
      "11320\n",
      "11335\n",
      "11350\n",
      "11380\n",
      "11410\n",
      "11440\n",
      "11470\n",
      "11500\n",
      "11530\n",
      "11545\n",
      "11560\n",
      "11590\n",
      "11620\n",
      "11650\n",
      "11680\n",
      "11710\n",
      "11740\n",
      "[['66,579', '42.29'], ['101,473', '59.74'], ['84,832', '84.9939'], ['104,650', '84.8985'], ['43,384', '38.996'], ['49,702', '39.975'], ['99,491', '84.9625'], ['76,500', '59.975'], ['82,000', '84.997'], ['69,000', '59.996'], ['89,000', '76.65'], ['85,186', '59.96'], ['50,500', '49.92'], ['87,000', '59.96'], ['125,000', '59.5'], ['120,000', '59.97'], ['120,000', '59.97'], ['133,000', '59.97'], ['93,300', '74.9982'], ['110,000', '59.93'], ['140,000', '84.9243'], ['145,000', '84.94'], ['115,000', '59.76'], ['1,000,000', '200.93'], ['395,000', '101.99'], ['305,000', '84.97'], ['392,000', '84.98'], ['178,000', '59.9751'], ['168,658', '59.9742'], ['182,388', '59.9742'], ['250,000', '84.9642'], ['60,600', '49.795'], ['90,135', '84.1946'], ['112,200', '98.4933'], ['102,998', '84.1946']]\n"
     ]
    }
   ],
   "source": [
    "# 구의 법정동 코드를 전달해서 해당 구의 1월부터 5월까지 분양권 전매 내역을 조회\n",
    "# 그 중 전용면적과 거래금액만을 추출해서 저장하는 함수\n",
    "from bs4 import BeautifulSoup\n",
    "from urllib.request import urlopen\n",
    "\n",
    "datas = []\n",
    "\n",
    "def get_datas(region_code):\n",
    "    # 1월부터 5월까지의 거래내역\n",
    "    for i in range(1,6):\n",
    "        url = f'http://openapi.molit.go.kr/OpenAPI_ToolInstallPackage/service/rest/RTMSOBJSvc/getRTMSDataSvcSilvTrade?serviceKey={api_keys.encoding_key}&LAWD_CD={region_code}&DEAL_YMD=20230{i}'\n",
    "        response = urlopen(url)\n",
    "        result = BeautifulSoup(response,'xml')\n",
    "        items = result.find_all('item')\n",
    "        data = []\n",
    "        for item in items:\n",
    "            price = item.find('거래금액').text\n",
    "            space = item.find('전용면적').text\n",
    "            data = [price, space]\n",
    "        if(len(data) != 0):\n",
    "            datas.append(data)\n",
    "        \n",
    "for code in region_codes:\n",
    "    print(code)\n",
    "    get_datas(code)\n",
    "    \n",
    "print(datas)"
   ]
  },
  {
   "cell_type": "code",
   "execution_count": 17,
   "metadata": {},
   "outputs": [
    {
     "name": "stdout",
     "output_type": "stream",
     "text": [
      "<bound method NDFrame.head of         price    space\n",
      "0      66,579    42.29\n",
      "1     101,473    59.74\n",
      "2      84,832  84.9939\n",
      "3     104,650  84.8985\n",
      "4      43,384   38.996\n",
      "5      49,702   39.975\n",
      "6      99,491  84.9625\n",
      "7      76,500   59.975\n",
      "8      82,000   84.997\n",
      "9      69,000   59.996\n",
      "10     89,000    76.65\n",
      "11     85,186    59.96\n",
      "12     50,500    49.92\n",
      "13     87,000    59.96\n",
      "14    125,000     59.5\n",
      "15    120,000    59.97\n",
      "16    120,000    59.97\n",
      "17    133,000    59.97\n",
      "18     93,300  74.9982\n",
      "19    110,000    59.93\n",
      "20    140,000  84.9243\n",
      "21    145,000    84.94\n",
      "22    115,000    59.76\n",
      "23  1,000,000   200.93\n",
      "24    395,000   101.99\n",
      "25    305,000    84.97\n",
      "26    392,000    84.98\n",
      "27    178,000  59.9751\n",
      "28    168,658  59.9742\n",
      "29    182,388  59.9742\n",
      "30    250,000  84.9642\n",
      "31     60,600   49.795\n",
      "32     90,135  84.1946\n",
      "33    112,200  98.4933\n",
      "34    102,998  84.1946>\n"
     ]
    }
   ],
   "source": [
    "# 데이터 프레임 생성\n",
    "import pandas as pd\n",
    "\n",
    "df = pd.DataFrame(datas, columns=['price','space'])\n",
    "\n",
    "print(df.head)"
   ]
  },
  {
   "cell_type": "code",
   "execution_count": 18,
   "metadata": {},
   "outputs": [
    {
     "name": "stdout",
     "output_type": "stream",
     "text": [
      "<bound method NDFrame.head of       price    space\n",
      "0    66,579    42.29\n",
      "1   101,473    59.74\n",
      "2    84,832  84.9939\n",
      "3   104,650  84.8985\n",
      "4    43,384   38.996\n",
      "5    49,702   39.975\n",
      "6    99,491  84.9625\n",
      "7    76,500   59.975\n",
      "8    82,000   84.997\n",
      "9    69,000   59.996\n",
      "10   89,000    76.65\n",
      "11   85,186    59.96\n",
      "12   50,500    49.92\n",
      "13   87,000    59.96\n",
      "14  125,000     59.5\n",
      "15  120,000    59.97\n",
      "16  120,000    59.97\n",
      "17  133,000    59.97\n",
      "18   93,300  74.9982\n",
      "19  110,000    59.93\n",
      "20  140,000  84.9243\n",
      "21  145,000    84.94\n",
      "22  115,000    59.76\n",
      "24  395,000   101.99\n",
      "25  305,000    84.97\n",
      "26  392,000    84.98\n",
      "27  178,000  59.9751\n",
      "28  168,658  59.9742\n",
      "29  182,388  59.9742\n",
      "30  250,000  84.9642\n",
      "31   60,600   49.795\n",
      "32   90,135  84.1946\n",
      "33  112,200  98.4933\n",
      "34  102,998  84.1946>\n"
     ]
    }
   ],
   "source": [
    "# 이상데이터 제거\n",
    "# 100억원에 거래된 200제곱미터의 아파트는 일반화하는 데에 어려움을 일으킬 수 있으므로\n",
    "# 23번째 데이터를 삭제\n",
    "\n",
    "df.drop([23], axis=0, inplace=True)\n",
    "\n",
    "print(df.head)"
   ]
  },
  {
   "cell_type": "code",
   "execution_count": 21,
   "metadata": {},
   "outputs": [
    {
     "name": "stdout",
     "output_type": "stream",
     "text": [
      "<bound method NDFrame.head of       price     space\n",
      "0   105,000     59.99\n",
      "1    90,000     84.95\n",
      "2    75,482     59.97\n",
      "3    87,000     59.94\n",
      "4   127,850     59.97\n",
      "5   101,500     43.27\n",
      "6   127,000     59.97\n",
      "7   102,500     59.99\n",
      "8   120,000      84.9\n",
      "9   590,000   175.853\n",
      "10   86,500    30.726\n",
      "11   85,500   36.5219\n",
      "12  300,340     84.95\n",
      "13  320,000     84.98\n",
      "14  365,297  112.8548\n",
      "15  230,000   84.9956\n",
      "16  247,000   84.7509>\n"
     ]
    }
   ],
   "source": [
    "# 더 많은 데이터의 수집 필요\n",
    "# 기존 데이터 수집 함수를 사용해서 작년 하반기의 데이터를 추가로 수집\n",
    "\n",
    "new_datas = []\n",
    "\n",
    "def get_datas(region_code):\n",
    "    # 7월부터 9월\n",
    "    for i in range(7,10):\n",
    "        url = f'http://openapi.molit.go.kr/OpenAPI_ToolInstallPackage/service/rest/RTMSOBJSvc/getRTMSDataSvcSilvTrade?serviceKey={api_keys.encoding_key}&LAWD_CD={region_code}&DEAL_YMD=20220{i}'\n",
    "        response = urlopen(url)\n",
    "        result = BeautifulSoup(response,'xml')\n",
    "        items = result.find_all('item')\n",
    "        data = []\n",
    "        for item in items:\n",
    "            price = item.find('거래금액').text\n",
    "            space = item.find('전용면적').text\n",
    "            data = [price, space]\n",
    "        if(len(data) != 0):\n",
    "            new_datas.append(data)\n",
    "    # 10월부터 12월\n",
    "    for i in range(10,13):\n",
    "        url = f'http://openapi.molit.go.kr/OpenAPI_ToolInstallPackage/service/rest/RTMSOBJSvc/getRTMSDataSvcSilvTrade?serviceKey={api_keys.encoding_key}&LAWD_CD={region_code}&DEAL_YMD=2022{i}'\n",
    "        response = urlopen(url)\n",
    "        result = BeautifulSoup(response,'xml')\n",
    "        items = result.find_all('item')\n",
    "        data = []\n",
    "        for item in items:\n",
    "            price = item.find('거래금액').text\n",
    "            space = item.find('전용면적').text\n",
    "            data = [price, space]\n",
    "        if(len(data) != 0):\n",
    "            new_datas.append(data)\n",
    "            \n",
    "for code in region_codes:\n",
    "    get_datas(code)\n",
    "\n",
    "df2 = pd.DataFrame(new_datas, columns=['price','space'])\n",
    "\n",
    "print(df2.head)\n",
    "\n",
    "    \n"
   ]
  },
  {
   "cell_type": "code",
   "execution_count": 23,
   "metadata": {},
   "outputs": [
    {
     "ename": "TypeError",
     "evalue": "concat() takes 1 positional argument but 2 were given",
     "output_type": "error",
     "traceback": [
      "\u001b[1;31m---------------------------------------------------------------------------\u001b[0m",
      "\u001b[1;31mTypeError\u001b[0m                                 Traceback (most recent call last)",
      "Cell \u001b[1;32mIn[23], line 3\u001b[0m\n\u001b[0;32m      1\u001b[0m \u001b[39m# 두 데이터 프레임 결합\u001b[39;00m\n\u001b[1;32m----> 3\u001b[0m new_df \u001b[39m=\u001b[39m pd\u001b[39m.\u001b[39;49mconcat(df,df2)\n\u001b[0;32m      5\u001b[0m \u001b[39mprint\u001b[39m(new_df\u001b[39m.\u001b[39mhead)\n",
      "\u001b[1;31mTypeError\u001b[0m: concat() takes 1 positional argument but 2 were given"
     ]
    }
   ],
   "source": [
    "# 두 데이터 프레임 결합\n",
    "\n",
    "new_df = pd.concat([df,df2])\n",
    "\n",
    "print(new_df.head)"
   ]
  }
 ],
 "metadata": {
  "kernelspec": {
   "display_name": "Python 3",
   "language": "python",
   "name": "python3"
  },
  "language_info": {
   "codemirror_mode": {
    "name": "ipython",
    "version": 3
   },
   "file_extension": ".py",
   "mimetype": "text/x-python",
   "name": "python",
   "nbconvert_exporter": "python",
   "pygments_lexer": "ipython3",
   "version": "3.11.2"
  },
  "orig_nbformat": 4
 },
 "nbformat": 4,
 "nbformat_minor": 2
}
