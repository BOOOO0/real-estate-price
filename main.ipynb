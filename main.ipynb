{
 "cells": [
  {
   "cell_type": "code",
<<<<<<< HEAD
   "execution_count": 6,
=======
   "execution_count": 3,
>>>>>>> feature/linear-regression
   "metadata": {},
   "outputs": [],
   "source": [
    "# 공공 데이터 API 호출 서비스 키 모듈 호출\n",
    "import api_keys"
   ]
  },
  {
   "cell_type": "code",
<<<<<<< HEAD
   "execution_count": 3,
=======
   "execution_count": 4,
>>>>>>> feature/linear-regression
   "metadata": {},
   "outputs": [],
   "source": [
    "# 서울시 모든 구의 법정동 코드\n",
    "region_codes = ['11110', '11140', '11170', '11200', '11200', '11215', '11230' '11260', '11290', '11305', '11320', '11335', '11350', '11380', '11410', '11440', '11470', '11500', '11530', '11545', '11560', '11590', '11620', '11650', '11680', '11710', '11740']"
   ]
  },
  {
   "cell_type": "code",
   "execution_count": 15,
   "metadata": {},
   "outputs": [
    {
     "name": "stdout",
     "output_type": "stream",
     "text": [
      "[<item><거래금액>110,000</거래금액><거래유형>중개거래</거래유형><구분>입</구분><년>2023</년><단지>흑석리버파크자이</단지><법정동> 흑석동</법정동><시군구>동작구</시군구><월>1</월><일>28</일><전용면적>59.93</전용면적><중개사소재지>서울 동작구</중개사소재지><지번>253-89</지번><지역코드>11590</지역코드><층>6</층><해제사유발생일> </해제사유발생일><해제여부> </해제여부></item>]\n"
     ]
    }
   ],
   "source": [
    "# 예시 데이터 출력\n",
    "from bs4 import BeautifulSoup\n",
    "from urllib.request import urlopen\n",
    "\n",
    "url = f'http://openapi.molit.go.kr/OpenAPI_ToolInstallPackage/service/rest/RTMSOBJSvc/getRTMSDataSvcSilvTrade?serviceKey={api_keys.encoding_key}&LAWD_CD={region_codes[20]}&DEAL_YMD=202301'\n",
    "\n",
    "response = urlopen(url)\n",
    "\n",
    "result = BeautifulSoup(response,'xml')\n",
    "items = result.find_all('item')\n",
    "\n",
    "print(items)"
   ]
  },
  {
   "cell_type": "code",
<<<<<<< HEAD
   "execution_count": 7,
=======
   "execution_count": 5,
>>>>>>> feature/linear-regression
   "metadata": {},
   "outputs": [
    {
     "name": "stdout",
     "output_type": "stream",
     "text": [
      "11110\n",
      "11140\n",
      "11170\n",
      "11200\n",
      "11200\n",
      "11215\n",
      "1123011260\n",
      "11290\n",
      "11305\n",
      "11320\n",
      "11335\n",
      "11350\n",
      "11380\n",
      "11410\n",
      "11440\n",
      "11470\n",
      "11500\n",
      "11530\n",
      "11545\n",
      "11560\n",
      "11590\n",
      "11620\n",
      "11650\n",
      "11680\n",
      "11710\n",
      "11740\n",
<<<<<<< HEAD
      "[['66,579', '42.29'], ['101,473', '59.74'], ['84,832', '84.9939'], ['104,650', '84.8985'], ['43,384', '38.996'], ['49,702', '39.975'], ['99,491', '84.9625'], ['76,500', '59.975'], ['82,000', '84.997'], ['69,000', '59.996'], ['89,000', '76.65'], ['110,700', '84.97'], ['50,500', '49.92'], ['87,000', '59.96'], ['125,000', '59.5'], ['120,000', '59.97'], ['120,000', '59.97'], ['148,000', '84.99'], ['93,300', '74.9982'], ['110,000', '59.93'], ['140,000', '84.9243'], ['145,000', '84.94'], ['147,500', '84.9243'], ['1,000,000', '200.93'], ['395,000', '101.99'], ['305,000', '84.97'], ['392,000', '84.98'], ['262,000', '84.5978'], ['168,658', '59.9742'], ['182,388', '59.9742'], ['250,000', '84.9642'], ['158,109', '84.99'], ['60,600', '49.795'], ['90,135', '84.1946'], ['112,200', '98.4933'], ['102,998', '84.1946']]\n"
=======
      "[['66,579', '42.29'], ['101,473', '59.74'], ['84,832', '84.9939'], ['104,650', '84.8985'], ['43,384', '38.996'], ['49,702', '39.975'], ['99,491', '84.9625'], ['76,500', '59.975'], ['82,000', '84.997'], ['69,000', '59.996'], ['89,000', '76.65'], ['85,186', '59.96'], ['50,500', '49.92'], ['87,000', '59.96'], ['125,000', '59.5'], ['120,000', '59.97'], ['120,000', '59.97'], ['133,000', '59.97'], ['93,300', '74.9982'], ['110,000', '59.93'], ['140,000', '84.9243'], ['145,000', '84.94'], ['115,000', '59.76'], ['1,000,000', '200.93'], ['395,000', '101.99'], ['305,000', '84.97'], ['392,000', '84.98'], ['178,000', '59.9751'], ['168,658', '59.9742'], ['182,388', '59.9742'], ['250,000', '84.9642'], ['60,600', '49.795'], ['90,135', '84.1946'], ['112,200', '98.4933'], ['102,998', '84.1946']]\n"
>>>>>>> feature/linear-regression
     ]
    }
   ],
   "source": [
    "# 구의 법정동 코드를 전달해서 해당 구의 1월부터 5월까지 분양권 전매 내역을 조회\n",
    "# 그 중 전용면적과 거래금액만을 추출해서 저장하는 함수\n",
    "from bs4 import BeautifulSoup\n",
    "from urllib.request import urlopen\n",
    "\n",
    "datas = []\n",
    "\n",
    "def get_datas(region_code):\n",
    "    # 1월부터 5월까지의 거래내역\n",
    "    for i in range(1,6):\n",
    "        url = f'http://openapi.molit.go.kr/OpenAPI_ToolInstallPackage/service/rest/RTMSOBJSvc/getRTMSDataSvcSilvTrade?serviceKey={api_keys.encoding_key}&LAWD_CD={region_code}&DEAL_YMD=20230{i}'\n",
    "        response = urlopen(url)\n",
    "        result = BeautifulSoup(response,'xml')\n",
    "        items = result.find_all('item')\n",
    "        data = []\n",
    "        for item in items:\n",
    "            price = item.find('거래금액').text\n",
    "            space = item.find('전용면적').text\n",
    "            data = [price, space]\n",
    "        if(len(data) != 0):\n",
    "            datas.append(data)\n",
    "        \n",
    "for code in region_codes:\n",
    "    print(code)\n",
    "    get_datas(code)\n",
    "    \n",
    "print(datas)"
   ]
  },
  {
   "cell_type": "code",
<<<<<<< HEAD
   "execution_count": 8,
=======
   "execution_count": 25,
>>>>>>> feature/linear-regression
   "metadata": {},
   "outputs": [
    {
     "name": "stdout",
     "output_type": "stream",
     "text": [
<<<<<<< HEAD
      "<bound method NDFrame.head of         price    space\n",
      "0      66,579    42.29\n",
      "1     101,473    59.74\n",
      "2      84,832  84.9939\n",
      "3     104,650  84.8985\n",
      "4      43,384   38.996\n",
      "5      49,702   39.975\n",
      "6      99,491  84.9625\n",
      "7      76,500   59.975\n",
      "8      82,000   84.997\n",
      "9      69,000   59.996\n",
      "10     89,000    76.65\n",
      "11    110,700    84.97\n",
      "12     50,500    49.92\n",
      "13     87,000    59.96\n",
      "14    125,000     59.5\n",
      "15    120,000    59.97\n",
      "16    120,000    59.97\n",
      "17    148,000    84.99\n",
      "18     93,300  74.9982\n",
      "19    110,000    59.93\n",
      "20    140,000  84.9243\n",
      "21    145,000    84.94\n",
      "22    147,500  84.9243\n",
      "23  1,000,000   200.93\n",
      "24    395,000   101.99\n",
      "25    305,000    84.97\n",
      "26    392,000    84.98\n",
      "27    262,000  84.5978\n",
      "28    168,658  59.9742\n",
      "29    182,388  59.9742\n",
      "30    250,000  84.9642\n",
      "31    158,109    84.99\n",
      "32     60,600   49.795\n",
      "33     90,135  84.1946\n",
      "34    112,200  98.4933\n",
      "35    102,998  84.1946>\n"
=======
      "<bound method NDFrame.head of           price    space\n",
      "0        99,960    84.92\n",
      "1        72,000  59.9426\n",
      "2        13,000   19.466\n",
      "3       183,500  84.8359\n",
      "4        13,400   19.466\n",
      "..          ...      ...\n",
      "115     142,000   133.65\n",
      "116     109,000    84.93\n",
      "117      62,900    59.79\n",
      "118      88,000    84.96\n",
      "119     109,000    59.11\n",
      "\n",
      "[120 rows x 2 columns]>\n"
>>>>>>> feature/linear-regression
     ]
    }
   ],
   "source": [
    "# 데이터 프레임 생성\n",
    "import pandas as pd\n",
    "\n",
    "df = pd.DataFrame(datas, columns=['price','space'])\n",
    "\n",
    "print(df.head)"
   ]
  },
  {
   "cell_type": "code",
<<<<<<< HEAD
   "execution_count": 7,
=======
   "execution_count": 26,
>>>>>>> feature/linear-regression
   "metadata": {},
   "outputs": [
    {
     "name": "stdout",
     "output_type": "stream",
     "text": [
<<<<<<< HEAD
      "<bound method NDFrame.head of       price    space\n",
      "0    66,579    42.29\n",
      "1   101,473    59.74\n",
      "2    84,832  84.9939\n",
      "3   104,650  84.8985\n",
      "4    43,384   38.996\n",
      "5    49,702   39.975\n",
      "6    99,491  84.9625\n",
      "7    76,500   59.975\n",
      "8    82,000   84.997\n",
      "9    69,000   59.996\n",
      "10   89,000    76.65\n",
      "11   85,186    59.96\n",
      "12   50,500    49.92\n",
      "13   87,000    59.96\n",
      "14  125,000     59.5\n",
      "15  120,000    59.97\n",
      "16  120,000    59.97\n",
      "17  133,000    59.97\n",
      "18   93,300  74.9982\n",
      "19  110,000    59.93\n",
      "20  140,000  84.9243\n",
      "21  145,000    84.94\n",
      "22  115,000    59.76\n",
      "24  395,000   101.99\n",
      "25  305,000    84.97\n",
      "26  392,000    84.98\n",
      "27  178,000  59.9751\n",
      "28  168,658  59.9742\n",
      "29  182,388  59.9742\n",
      "30  250,000  84.9642\n",
      "31   60,600   49.795\n",
      "32   90,135  84.1946\n",
      "33  112,200  98.4933\n",
      "34  102,998  84.1946>\n"
=======
      "<bound method NDFrame.head of           price    space\n",
      "0        99,960    84.92\n",
      "1        72,000  59.9426\n",
      "2        13,000   19.466\n",
      "3       183,500  84.8359\n",
      "4        13,400   19.466\n",
      "..          ...      ...\n",
      "115     142,000   133.65\n",
      "116     109,000    84.93\n",
      "117      62,900    59.79\n",
      "118      88,000    84.96\n",
      "119     109,000    59.11\n",
      "\n",
      "[119 rows x 2 columns]>\n"
>>>>>>> feature/linear-regression
     ]
    }
   ],
   "source": [
    "# 이상데이터 제거\n",
    "# 100억원에 거래된 200제곱미터의 아파트는 일반화하는 데에 어려움을 일으킬 수 있으므로\n",
    "# 23번째 데이터를 삭제\n",
    "\n",
    "df.drop([23], axis=0, inplace=True)\n",
    "\n",
    "print(df.head)"
   ]
  },
  {
   "cell_type": "code",
<<<<<<< HEAD
   "execution_count": 9,
=======
   "execution_count": 29,
>>>>>>> feature/linear-regression
   "metadata": {},
   "outputs": [
    {
     "name": "stdout",
     "output_type": "stream",
     "text": [
      "<bound method NDFrame.head of       price     space\n",
      "0   105,000     59.99\n",
      "1    90,000     84.95\n",
      "2    75,482     59.97\n",
      "3    87,000     59.94\n",
      "4   127,850     59.97\n",
      "5   101,500     43.27\n",
      "6   127,000     59.97\n",
      "7   102,500     59.99\n",
      "8   120,000      84.9\n",
      "9   590,000   175.853\n",
      "10   86,500    30.726\n",
      "11   85,500   36.5219\n",
      "12  300,340     84.95\n",
      "13  320,000     84.98\n",
      "14  365,297  112.8548\n",
      "15  230,000   84.9956\n",
      "16  215,000   84.5978>\n"
     ]
    }
   ],
   "source": [
    "# 더 많은 데이터의 수집 필요\n",
    "# 기존 데이터 수집 함수를 사용해서 작년 하반기의 데이터를 추가로 수집\n",
    "\n",
    "new_datas = []\n",
    "\n",
    "def get_datas(region_code):\n",
    "    # 7월부터 9월\n",
    "    for i in range(7,10):\n",
    "        url = f'http://openapi.molit.go.kr/OpenAPI_ToolInstallPackage/service/rest/RTMSOBJSvc/getRTMSDataSvcSilvTrade?serviceKey={api_keys.encoding_key}&LAWD_CD={region_code}&DEAL_YMD=20220{i}'\n",
    "        response = urlopen(url)\n",
    "        result = BeautifulSoup(response,'xml')\n",
    "        items = result.find_all('item')\n",
    "        data = []\n",
    "        for item in items:\n",
    "            price = item.find('거래금액').text\n",
    "            space = item.find('전용면적').text\n",
    "            data = [price, space]\n",
    "        if(len(data) != 0):\n",
    "            new_datas.append(data)\n",
    "    # 10월부터 12월\n",
    "    for i in range(10,13):\n",
    "        url = f'http://openapi.molit.go.kr/OpenAPI_ToolInstallPackage/service/rest/RTMSOBJSvc/getRTMSDataSvcSilvTrade?serviceKey={api_keys.encoding_key}&LAWD_CD={region_code}&DEAL_YMD=2022{i}'\n",
    "        response = urlopen(url)\n",
    "        result = BeautifulSoup(response,'xml')\n",
    "        items = result.find_all('item')\n",
    "        data = []\n",
    "        for item in items:\n",
    "            price = item.find('거래금액').text\n",
    "            space = item.find('전용면적').text\n",
    "            data = [price, space]\n",
    "        if(len(data) != 0):\n",
    "            new_datas.append(data)\n",
    "            \n",
    "for code in region_codes:\n",
    "    get_datas(code)\n",
    "\n",
    "df2 = pd.DataFrame(new_datas, columns=['price','space'])\n",
    "\n",
    "print(df2.head)\n",
    "\n",
    "    \n"
   ]
  },
  {
   "cell_type": "code",
<<<<<<< HEAD
   "execution_count": 10,
=======
   "execution_count": 30,
>>>>>>> feature/linear-regression
   "metadata": {},
   "outputs": [
    {
     "name": "stdout",
     "output_type": "stream",
     "text": [
      "<bound method NDFrame.head of       price     space\n",
      "0   105,000     59.99\n",
      "1    90,000     84.95\n",
      "2    75,482     59.97\n",
      "3    87,000     59.94\n",
      "4   127,850     59.97\n",
      "5   101,500     43.27\n",
      "6   127,000     59.97\n",
      "7   102,500     59.99\n",
      "8   120,000      84.9\n",
      "10   86,500    30.726\n",
      "11   85,500   36.5219\n",
      "12  300,340     84.95\n",
      "13  320,000     84.98\n",
      "14  365,297  112.8548\n",
      "15  230,000   84.9956\n",
      "16  215,000   84.5978>\n"
     ]
    }
   ],
   "source": [
    "# 선형 회귀로 확인 결과 59억원 데이터를 삭제하는 것이 도움이 될 것으로 보임\n",
    "\n",
    "df2.drop([9], axis=0, inplace=True)\n",
    "\n",
    "print(df2.head)"
   ]
  },
  {
   "cell_type": "code",
<<<<<<< HEAD
   "execution_count": 11,
=======
   "execution_count": 31,
>>>>>>> feature/linear-regression
   "metadata": {},
   "outputs": [
    {
     "name": "stdout",
     "output_type": "stream",
     "text": [
<<<<<<< HEAD
      "<bound method NDFrame.head of         price     space\n",
      "0      66,579     42.29\n",
      "1     101,473     59.74\n",
      "2      84,832   84.9939\n",
      "3     104,650   84.8985\n",
      "4      43,384    38.996\n",
      "5      49,702    39.975\n",
      "6      99,491   84.9625\n",
      "7      76,500    59.975\n",
      "8      82,000    84.997\n",
      "9      69,000    59.996\n",
      "10     89,000     76.65\n",
      "11    110,700     84.97\n",
      "12     50,500     49.92\n",
      "13     87,000     59.96\n",
      "14    125,000      59.5\n",
      "15    120,000     59.97\n",
      "16    120,000     59.97\n",
      "17    148,000     84.99\n",
      "18     93,300   74.9982\n",
      "19    110,000     59.93\n",
      "20    140,000   84.9243\n",
      "21    145,000     84.94\n",
      "22    147,500   84.9243\n",
      "23  1,000,000    200.93\n",
      "24    395,000    101.99\n",
      "25    305,000     84.97\n",
      "26    392,000     84.98\n",
      "27    262,000   84.5978\n",
      "28    168,658   59.9742\n",
      "29    182,388   59.9742\n",
      "30    250,000   84.9642\n",
      "31    158,109     84.99\n",
      "32     60,600    49.795\n",
      "33     90,135   84.1946\n",
      "34    112,200   98.4933\n",
      "35    102,998   84.1946\n",
      "0     105,000     59.99\n",
      "1      90,000     84.95\n",
      "2      75,482     59.97\n",
      "3      87,000     59.94\n",
      "4     127,850     59.97\n",
      "5     101,500     43.27\n",
      "6     127,000     59.97\n",
      "7     102,500     59.99\n",
      "8     120,000      84.9\n",
      "10     86,500    30.726\n",
      "11     85,500   36.5219\n",
      "12    300,340     84.95\n",
      "13    320,000     84.98\n",
      "14    365,297  112.8548\n",
      "15    230,000   84.9956\n",
      "16    215,000   84.5978>\n"
=======
      "<bound method NDFrame.head of          price     space\n",
      "0       99,960     84.92\n",
      "1       72,000   59.9426\n",
      "2       13,000    19.466\n",
      "3      183,500   84.8359\n",
      "4       13,400    19.466\n",
      "..         ...       ...\n",
      "12     300,340     84.95\n",
      "13     320,000     84.98\n",
      "14     365,297  112.8548\n",
      "15     230,000   84.9956\n",
      "16     215,000   84.5978\n",
      "\n",
      "[135 rows x 2 columns]>\n"
>>>>>>> feature/linear-regression
     ]
    }
   ],
   "source": [
    "# 두 데이터 프레임 결합\n",
    "\n",
    "new_df = pd.concat([df,df2])\n",
    "\n",
    "print(new_df.head)"
   ]
  },
  {
   "cell_type": "code",
<<<<<<< HEAD
   "execution_count": 18,
=======
   "execution_count": 32,
>>>>>>> feature/linear-regression
   "metadata": {},
   "outputs": [
    {
     "name": "stdout",
     "output_type": "stream",
     "text": [
<<<<<<< HEAD
      "http://openapi.molit.go.kr/OpenAPI_ToolInstallPackage/service/rest/RTMSOBJSvc/getRTMSDataSvcAptTradeDev?serviceKey=v7B0tEbMiKVQgBnetmAWaDANBgYRM%2F2Cla%2BOTLC7%2FVQJQGPCwPKQkENMiPcKjODZGZz%2FrmsOUfecJmbYyV63Dg%3D%3D&LAWD_CD=11200&DEAL_YMD=201602\n",
      "[<item><거래금액>    35,000</거래금액><거래유형> </거래유형><건축년도>1989</건축년도><년>2016</년><도로명>왕십리로31나길</도로명><도로명건물본번호코드>00022</도로명건물본번호코드><도로명건물부번호코드>00000</도로명건물부번호코드><도로명시군구코드>11200</도로명시군구코드><도로명일련번호코드>01</도로명일련번호코드><도로명지상지하코드>0</도로명지상지하코드><도로명코드>4109448</도로명코드><법정동> 하왕십리동</법정동><법정동본번코드>0990</법정동본번코드><법정동부번코드>0000</법정동부번코드><법정동시군구코드>11200</법정동시군구코드><법정동읍면동코드>10200</법정동읍면동코드><법정동지번코드>1</법정동지번코드><아파트>한신무학</아파트><월>2</월><일>1</일><일련번호>11200-5</일련번호><전용면적>62.41</전용면적><중개사소재지> </중개사소재지><지번>990</지번><지역코드>11200</지역코드><층>13</층><해제사유발생일> </해제사유발생일><해제여부> </해제여부></item>, <item><거래금액>    13,000</거래금액><거래유형> </거래유형><건축년도>2013</건축년도><년>2016</년><도로명>무학봉28길</도로명><도로명건물본번호코드>00005</도로명건물본번호코드><도로명건물부번호코드>00000</도로명건물부번호코드><도로명시군구코드>11200</도로명시군구코드><도로명일련번호코드>01</도로명일련번호코드><도로명지상지하코드>0</도로명지상지하코드><도로명코드>4109274</도로명코드><법정동> 하왕십리동</법정동><법정동본번코드>0966</법정동본번코드><법정동부번코드>0018</법정동부번코드><법정동시군구코드>11200</법정동시군구코드><법정동읍면동코드>10200</법정동읍면동코드><법정동지번코드>1</법정동지번코드><아파트>상리제나우스</아파트><월>2</월><일>1</일><일련번호>11200-2991</일련번호><전용면적>12.84</전용면적><중개사소재지> </중개사소재지><지번>966-18</지번><지역코드>11200</지역코드><층>9</층><해제사유발생일> </해제사유발생일><해제여부> </해제여부></item>, <item><거래금액>    44,000</거래금액><거래유형> </거래유형><건축년도>2004</건축년도><년>2016</년><도로명>난계로</도로명><도로명건물본번호코드>00084</도로명건물본번호코드><도로명건물부번호코드>00000</도로명건물부번호코드><도로명시군구코드>11200</도로명시군구코드><도로명일련번호코드>02</도로명일련번호코드><도로명지상지하코드>0</도로명지상지하코드><도로명코드>3100018</도로명코드><법정동> 하왕십리동</법정동><법정동본번코드>1061</법정동본번코드><법정동부번코드>0000</법정동부번코드><법정동시군구코드>11200</법정동시군구코드><법정동읍면동코드>10200</법정동읍면동코드><법정동지번코드>1</법정동지번코드><아파트>왕십리풍림아이원</아파트><월>2</월><일>6</일><일련번호>11200-98</일련번호><전용면적>59.936</전용면적><중개사소재지> </중개사소재지><지번>1061</지번><지역코드>11200</지역코드><층>6</층><해제사유발생일> </해제사유발생일><해제여부> </해제여부></item>, <item><거래금액>    33,000</거래금액><거래유형> </거래유형><건축년도>1989</건축년도><년>2016</년><도로명>왕십리로31나길</도로명><도로명건물본번호코드>00022</도로명건물본번호코드><도로명건물부번호코드>00000</도로명건물부번호코드><도로명시군구코드>11200</도로명시군구코드><도로명일련번호코드>01</도로명일련번호코드><도로명지상지하코드>0</도로명지상지하코드><도로명코드>4109448</도로명코드><법정동> 하왕십리동</법정동><법정동본번코드>0990</법정동본번코드><법정동부번코드>0000</법정동부번코드><법정동시군구코드>11200</법정동시군구코드><법정동읍면동코드>10200</법정동읍면동코드><법정동지번코드>1</법정동지번코드><아파트>한신무학</아파트><월>2</월><일>7</일><일련번호>11200-5</일련번호><전용면적>62.41</전용면적><중개사소재지> </중개사소재지><지번>990</지번><지역코드>11200</지역코드><층>11</층><해제사유발생일> </해제사유발생일><해제여부> </해제여부></item>, <item><거래금액>    43,000</거래금액><거래유형> </거래유형><건축년도>2001</건축년도><년>2016</년><도로명>난계로</도로명><도로명건물본번호코드>00114</도로명건물본번호코드><도로명건물부번호코드>00031</도로명건물부번호코드><도로명시군구코드>11200</도로명시군구코드><도로명일련번호코드>02</도로명일련번호코드><도로명지상지하코드>0</도로명지상지하코드><도로명코드>3100018</도로명코드><법정동> 하왕십리동</법정동><법정동본번코드>1052</법정동본번코드><법정동부번코드>0000</법정동부번코드><법정동시군구코드>11200</법정동시군구코드><법정동읍면동코드>10200</법정동읍면동코드><법정동지번코드>1</법정동지번코드><아파트>금호베스트빌</아파트><월>2</월><일>12</일><일련번호>11200-2</일련번호><전용면적>84.97</전용면적><중개사소재지> </중개사소재지><지번>1052</지번><지역코드>11200</지역코드><층>9</층><해제사유발생일> </해제사유발생일><해제여부> </해제여부></item>, <item><거래금액>    37,000</거래금액><거래유형> </거래유형><건축년도>1996</건축년도><년>2016</년><도로명>무학봉길</도로명><도로명건물본번호코드>00049</도로명건물본번호코드><도로명건물부번호코드>00000</도로명건물부번호코드><도로명시군구코드>11200</도로명시군구코드><도로명일련번호코드>01</도로명일련번호코드><도로명지상지하코드>0</도로명지상지하코드><도로명코드>4109280</도로명코드><법정동> 하왕십리동</법정동><법정동본번코드>0992</법정동본번코드><법정동부번코드>0000</법정동부번코드><법정동시군구코드>11200</법정동시군구코드><법정동읍면동코드>10200</법정동읍면동코드><법정동지번코드>1</법정동지번코드><아파트>무학현대</아파트><월>2</월><일>16</일><일련번호>11200-3</일련번호><전용면적>84.675</전용면적><중개사소재지> </중개사소재지><지번>992</지번><지역코드>11200</지역코드><층>6</층><해제사유발생일> </해제사유발생일><해제여부> </해제여부></item>, <item><거래금액>    44,000</거래금액><거래유형> </거래유형><건축년도>1989</건축년도><년>2016</년><도로명>왕십리로31나길</도로명><도로명건물본번호코드>00022</도로명건물본번호코드><도로명건물부번호코드>00000</도로명건물부번호코드><도로명시군구코드>11200</도로명시군구코드><도로명일련번호코드>01</도로명일련번호코드><도로명지상지하코드>0</도로명지상지하코드><도로명코드>4109448</도로명코드><법정동> 하왕십리동</법정동><법정동본번코드>0990</법정동본번코드><법정동부번코드>0000</법정동부번코드><법정동시군구코드>11200</법정동시군구코드><법정동읍면동코드>10200</법정동읍면동코드><법정동지번코드>1</법정동지번코드><아파트>한신무학</아파트><월>2</월><일>16</일><일련번호>11200-5</일련번호><전용면적>94.46</전용면적><중개사소재지> </중개사소재지><지번>990</지번><지역코드>11200</지역코드><층>12</층><해제사유발생일> </해제사유발생일><해제여부> </해제여부></item>, <item><거래금액>    33,000</거래금액><거래유형> </거래유형><건축년도>1989</건축년도><년>2016</년><도로명>왕십리로31나길</도로명><도로명건물본번호코드>00022</도로명건물본번호코드><도로명건물부번호코드>00000</도로명건물부번호코드><도로명시군구코드>11200</도로명시군구코드><도로명일련번호코드>01</도로명일련번호코드><도로명지상지하코드>0</도로명지상지하코드><도로명코드>4109448</도로명코드><법정동> 하왕십리동</법정동><법정동본번코드>0990</법정동본번코드><법정동부번코드>0000</법정동부번코드><법정동시군구코드>11200</법정동시군구코드><법정동읍면동코드>10200</법정동읍면동코드><법정동지번코드>1</법정동지번코드><아파트>한신무학</아파트><월>2</월><일>17</일><일련번호>11200-5</일련번호><전용면적>62.41</전용면적><중개사소재지> </중개사소재지><지번>990</지번><지역코드>11200</지역코드><층>11</층><해제사유발생일> </해제사유발생일><해제여부> </해제여부></item>, <item><거래금액>    53,000</거래금액><거래유형> </거래유형><건축년도>2004</건축년도><년>2016</년><도로명>난계로</도로명><도로명건물본번호코드>00084</도로명건물본번호코드><도로명건물부번호코드>00000</도로명건물부번호코드><도로명시군구코드>11200</도로명시군구코드><도로명일련번호코드>02</도로명일련번호코드><도로명지상지하코드>0</도로명지상지하코드><도로명코드>3100018</도로명코드><법정동> 하왕십리동</법정동><법정동본번코드>1061</법정동본번코드><법정동부번코드>0000</법정동부번코드><법정동시군구코드>11200</법정동시군구코드><법정동읍면동코드>10200</법정동읍면동코드><법정동지번코드>1</법정동지번코드><아파트>왕십리풍림아이원</아파트><월>2</월><일>19</일><일련번호>11200-98</일련번호><전용면적>114.928</전용면적><중개사소재지> </중개사소재지><지번>1061</지번><지역코드>11200</지역코드><층>2</층><해제사유발생일> </해제사유발생일><해제여부> </해제여부></item>, <item><거래금액>    35,000</거래금액><거래유형> </거래유형><건축년도>1996</건축년도><년>2016</년><도로명>무학봉길</도로명><도로명건물본번호코드>00049</도로명건물본번호코드><도로명건물부번호코드>00000</도로명건물부번호코드><도로명시군구코드>11200</도로명시군구코드><도로명일련번호코드>01</도로명일련번호코드><도로명지상지하코드>0</도로명지상지하코드><도로명코드>4109280</도로명코드><법정동> 하왕십리동</법정동><법정동본번코드>0992</법정동본번코드><법정동부번코드>0000</법정동부번코드><법정동시군구코드>11200</법정동시군구코드><법정동읍면동코드>10200</법정동읍면동코드><법정동지번코드>1</법정동지번코드><아파트>무학현대</아파트><월>2</월><일>22</일><일련번호>11200-3</일련번호><전용면적>84.495</전용면적><중개사소재지> </중개사소재지><지번>992</지번><지역코드>11200</지역코드><층>1</층><해제사유발생일> </해제사유발생일><해제여부> </해제여부></item>]\n"
     ]
    }
   ],
   "source": [
    "# 일반 부동산 거래 예시 데이터\n",
    "url2=f'http://openapi.molit.go.kr/OpenAPI_ToolInstallPackage/service/rest/RTMSOBJSvc/getRTMSDataSvcAptTradeDev?serviceKey={api_keys.encoding_key}&LAWD_CD=11200&DEAL_YMD=201602'\n",
    "\n",
    "response2 = urlopen(url2)\n",
    "\n",
    "print(url2)\n",
    "\n",
    "result2 = BeautifulSoup(response2,'xml')\n",
    "items2 = result2.find_all('item')\n",
    "\n",
    "print(items2)"
=======
      "[120367.51585259]\n"
     ]
    },
    {
     "data": {
      "image/png": "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",
      "text/plain": [
       "<Figure size 640x480 with 1 Axes>"
      ]
     },
     "metadata": {},
     "output_type": "display_data"
    }
   ],
   "source": [
    "# 선형 회귀\n",
    "from sklearn.linear_model import LinearRegression\n",
    "import matplotlib.pyplot as plt\n",
    "import numpy as np\n",
    "\n",
    "price = new_df['price']\n",
    "space = new_df['space']\n",
    "\n",
    "prices = list(map(str,price))\n",
    "\n",
    "new_price = []\n",
    "\n",
    "# 100,000 형태의 문자열을 치환한 후 정수로 변환\n",
    "for i in range(0,len(prices)):\n",
    "    temp = prices[i].replace(\",\",\"\")\n",
    "    new_price.append(int(temp))\n",
    "\n",
    "# 실수형으로 변환\n",
    "new_space = list(map(float,space))\n",
    "\n",
    "new_price = np.array(new_price)\n",
    "new_space = np.array(new_space)\n",
    "\n",
    "linear_fitter = LinearRegression()\n",
    "linear_fitter.fit(new_space.reshape(-1,1),new_price)\n",
    "\n",
    "print(linear_fitter.predict([[87]]))\n",
    "\n",
    "plt.plot(new_space,new_price,'o')\n",
    "plt.plot(new_space, linear_fitter.predict(new_space.reshape(-1,1)))\n",
    "plt.show()"
>>>>>>> feature/linear-regression
   ]
  },
  {
   "cell_type": "code",
<<<<<<< HEAD
   "execution_count": 21,
=======
   "execution_count": 33,
>>>>>>> feature/linear-regression
   "metadata": {},
   "outputs": [
    {
     "name": "stdout",
     "output_type": "stream",
     "text": [
      "11110\n",
      "11140\n",
      "11170\n",
      "11200\n",
      "11200\n",
      "11215\n",
      "1123011260\n",
      "11290\n",
      "11305\n",
      "11320\n",
      "11335\n",
      "11350\n",
      "11380\n",
      "11410\n",
      "11440\n",
      "11470\n",
      "11500\n",
      "11530\n",
      "11545\n",
      "11560\n",
      "11590\n",
      "11620\n",
      "11650\n",
      "11680\n",
      "11710\n",
      "11740\n",
      "[['    99,960', '84.92'], ['    72,000', '59.9426'], ['    13,000', '19.466'], ['   183,500', '84.8359'], ['    13,400', '19.466'], ['    23,000', '19.06'], ['   101,000', '84.85'], ['   150,000', '145.1'], ['   104,000', '84.85'], ['   116,000', '84.88'], ['   176,000', '84.89'], ['    24,500', '45.26'], ['    16,000', '13.69'], ['    65,000', '107.83'], ['   243,000', '100.29'], ['    69,000', '59.94'], ['   128,000', '84.96'], ['   105,000', '59.99'], ['   147,500', '84.88'], ['    83,000', '59.936'], ['    69,000', '59.94'], ['   128,000', '84.96'], ['   105,000', '59.99'], ['   147,500', '84.88'], ['    83,000', '59.936'], ['   180,000', '158.26'], ['   105,000', '84.97'], ['   100,000', '84.92'], ['    79,000', '59.98'], ['   110,000', '84.76'], ['    90,000', '114.86'], ['    50,000', '59.58'], ['    51,000', '59.58'], ['    88,000', '132.96'], ['    63,500', '84.8'], ['    81,000', '84.67'], ['    73,000', '114.85'], ['    74,800', '59.818'], ['    46,800', '59.67'], ['    64,000', '84.71'], ['    17,000', '48.61'], ['    49,500', '70.13'], ['    39,000', '59.67'], ['    49,700', '84.66'], ['    55,000', '83.86'], ['    64,750', '59.22'], ['    65,000', '50.14'], ['    67,000', '50.14'], ['    78,000', '84.97'], ['    62,000', '50.14'], ['    78,000', '59.98'], ['    86,000', '84.99'], ['    80,000', '59.938'], ['    83,500', '59.938'], ['    81,000', '59.938'], ['    69,200', '44.9401'], ['   137,000', '109.0901'], ['    67,000', '34.9408'], ['    81,000', '59.58'], ['    55,000', '59.4'], ['   155,000', '114.98'], ['   103,000', '59.97'], ['   162,000', '84.5978'], ['   119,500', '104.89'], ['   152,000', '84.8919'], ['   149,000', '92.07'], ['    82,000', '84.985'], ['   183,500', '105.58'], ['   132,000', '70.73'], ['   112,000', '54.94'], ['    48,000', '41.85'], ['    65,000', '84.91'], ['    78,000', '84.34'], ['    63,500', '59.94'], ['    86,400', '84.95'], ['    65,000', '84.945'], ['   150,000', '117.74'], ['    71,000', '59.88'], ['    85,000', '84.789'], ['    84,000', '59.88'], ['    59,000', '84.84'], ['    77,000', '129.66'], ['    94,000', '84.8114'], ['    91,000', '84.3963'], ['    45,100', '89.46'], ['   225,000', '141.75'], ['    61,000', '38.441'], ['   133,000', '84.75'], ['    10,350', '13.53'], ['    19,000', '14.8376'], ['    72,000', '84.52'], ['    12,900', '14.1881'], ['    87,200', '84.9883'], ['   117,000', '84.995'], ['    14,500', '14.7'], ['    79,000', '84.74'], ['    75,000', '84.96'], ['    78,400', '84.96'], ['    78,900', '84.96'], ['    64,750', '59.85'], ['   183,500', '81.01'], ['   130,000', '84.91'], ['   127,000', '59.94'], ['   217,500', '105.86'], ['   179,000', '88.26'], ['    81,700', '33.18'], ['   178,000', '84.97'], ['   116,000', '114.01'], ['   173,000', '59.4'], ['   174,500', '59.8848'], ['   175,300', '84.82'], ['   189,000', '84.99'], ['   214,000', '84.97'], ['   205,000', '84.99'], ['   215,000', '84.8'], ['   142,000', '133.65'], ['   109,000', '84.93'], ['    62,900', '59.79'], ['    88,000', '84.96'], ['   109,000', '59.11']]\n"
     ]
    }
   ],
   "source": [
    "# 데이터의 수가 분양권 전매보다 많으므로 1월부터 5월까지의 데이터만을 사용하는 것으로 결정\n",
    "datas = []\n",
    "\n",
    "def get_datas(region_code):\n",
    "    # 1월부터 5월까지의 거래내역\n",
    "    for i in range(1,6):\n",
    "        url = f'http://openapi.molit.go.kr/OpenAPI_ToolInstallPackage/service/rest/RTMSOBJSvc/getRTMSDataSvcAptTradeDev?serviceKey={api_keys.encoding_key}&LAWD_CD={region_code}&DEAL_YMD=20230{i}'\n",
    "        response = urlopen(url)\n",
    "        result = BeautifulSoup(response,'xml')\n",
    "        items = result.find_all('item')\n",
    "        data = []\n",
    "        for item in items:\n",
    "            price = item.find('거래금액').text\n",
    "            space = item.find('전용면적').text\n",
    "            data = [price, space]\n",
    "        if(len(data) != 0):\n",
    "            datas.append(data)\n",
    "        \n",
    "for code in region_codes:\n",
    "    print(code)\n",
    "    get_datas(code)\n",
    "    \n",
    "print(datas)"
   ]
  },
  {
   "cell_type": "code",
<<<<<<< HEAD
   "execution_count": 22,
=======
   "execution_count": 34,
>>>>>>> feature/linear-regression
   "metadata": {},
   "outputs": [
    {
     "name": "stdout",
     "output_type": "stream",
     "text": [
      "<bound method NDFrame.head of           price    space\n",
      "0        99,960    84.92\n",
      "1        72,000  59.9426\n",
      "2        13,000   19.466\n",
      "3       183,500  84.8359\n",
      "4        13,400   19.466\n",
      "..          ...      ...\n",
      "115     142,000   133.65\n",
      "116     109,000    84.93\n",
      "117      62,900    59.79\n",
      "118      88,000    84.96\n",
      "119     109,000    59.11\n",
      "\n",
      "[120 rows x 2 columns]>\n"
     ]
    }
   ],
   "source": [
    "# 데이터 프레임 생성\n",
    "df_b = pd.DataFrame(datas, columns=['price','space'])\n",
    "\n",
    "print(df_b.head)"
   ]
<<<<<<< HEAD
=======
  },
  {
   "cell_type": "code",
   "execution_count": 38,
   "metadata": {},
   "outputs": [
    {
     "name": "stdout",
     "output_type": "stream",
     "text": [
      "[99960, 72000, 13000, 183500, 13400, 23000, 101000, 150000, 104000, 116000, 176000, 24500, 16000, 65000, 243000, 69000, 128000, 105000, 147500, 83000, 69000, 128000, 105000, 147500, 83000, 180000, 105000, 100000, 79000, 110000, 90000, 50000, 51000, 88000, 63500, 81000, 73000, 74800, 46800, 64000, 17000, 49500, 39000, 49700, 55000, 64750, 65000, 67000, 78000, 62000, 78000, 86000, 80000, 83500, 81000, 69200, 137000, 67000, 81000, 55000, 155000, 103000, 162000, 119500, 152000, 149000, 82000, 183500, 132000, 112000, 48000, 65000, 78000, 63500, 86400, 65000, 150000, 71000, 85000, 84000, 59000, 77000, 94000, 91000, 45100, 225000, 61000, 133000, 10350, 19000, 72000, 12900, 87200, 117000, 14500, 79000, 75000, 78400, 78900, 64750, 183500, 130000, 127000, 217500, 179000, 81700, 178000, 116000, 173000, 174500, 175300, 189000, 214000, 205000, 215000, 142000, 109000, 62900, 88000, 109000]\n",
      "[111437.67146413]\n"
     ]
    },
    {
     "data": {
      "image/png": "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",
      "text/plain": [
       "<Figure size 640x480 with 1 Axes>"
      ]
     },
     "metadata": {},
     "output_type": "display_data"
    }
   ],
   "source": [
    "# 일반 부동산 거래에 대한 선형 회귀\n",
    "price = df_b['price']\n",
    "space = df_b['space']\n",
    "\n",
    "prices = list(map(str,price))\n",
    "\n",
    "new_price = []\n",
    "\n",
    "# 왼쪽 공백을 제거하고 100,000 형태의 문자열을 치환한 후 정수로 변환\n",
    "for i in range(0,len(prices)):\n",
    "    temp = prices[i].lstrip()\n",
    "    temp = temp.replace(\",\",\"\")\n",
    "    new_price.append(int(temp))\n",
    "\n",
    "# 실수형으로 변환\n",
    "new_space = list(map(float,space))\n",
    "\n",
    "print(new_price)\n",
    "\n",
    "new_price = np.array(new_price)\n",
    "new_space = np.array(new_space)\n",
    "\n",
    "linear_fitter = LinearRegression()\n",
    "linear_fitter.fit(new_space.reshape(-1,1),new_price)\n",
    "\n",
    "print(linear_fitter.predict([[87]]))\n",
    "\n",
    "plt.plot(new_space,new_price,'o')\n",
    "plt.plot(new_space, linear_fitter.predict(new_space.reshape(-1,1)))\n",
    "plt.show()"
   ]
>>>>>>> feature/linear-regression
  }
 ],
 "metadata": {
  "kernelspec": {
   "display_name": "Python 3",
   "language": "python",
   "name": "python3"
  },
  "language_info": {
   "codemirror_mode": {
    "name": "ipython",
    "version": 3
   },
   "file_extension": ".py",
   "mimetype": "text/x-python",
   "name": "python",
   "nbconvert_exporter": "python",
   "pygments_lexer": "ipython3",
   "version": "3.11.2"
  },
  "orig_nbformat": 4
 },
 "nbformat": 4,
 "nbformat_minor": 2
}
